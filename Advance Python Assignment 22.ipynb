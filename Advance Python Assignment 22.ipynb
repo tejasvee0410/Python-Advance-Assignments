{
 "cells": [
  {
   "cell_type": "markdown",
   "id": "e83b1c11-261a-4944-a1b1-81e37f7e930d",
   "metadata": {},
   "source": [
    "# 1. What are the benefits of the built-in array package, if any?"
   ]
  },
  {
   "cell_type": "markdown",
   "id": "c2973e1e-72dd-4fd9-9353-c061fefe75c1",
   "metadata": {},
   "source": [
    "The benefits of the built-in array package are :\n",
    "\n",
    "1) Arrays use less memory than lists so they are memory efficient.\n",
    "2) All elements in an array must be of the same type which makes it more predictable and efficient.\n",
    "3) For large numerical data arrays can be faster than lists because of lower-level memory operations.\n",
    "4) Arrays can be written to or read from files in binary format efficiently.\n",
    "5) Arrays can be used when interfacing with C libraries."
   ]
  },
  {
   "cell_type": "markdown",
   "id": "101ef9f5-7765-43a8-a7d5-32c33cc55ab5",
   "metadata": {},
   "source": [
    "# 2. What are some of the array package's limitations?"
   ]
  },
  {
   "cell_type": "markdown",
   "id": "60728048-d017-41a7-bd14-5e2631e632b3",
   "metadata": {},
   "source": [
    "The array package's limitations are :\n",
    "\n",
    "1) All elements must be of the same type so it's not as flexible as list.\n",
    "2) Slower for small datasets comapare to list.\n",
    "3) The array module has limited functionality and methods compared to lists or NumPy.\n",
    "4) It supports limited data type like int and float.\n",
    "5) Unlike NumPy it does not support element wise addition or matrix multiplication."
   ]
  },
  {
   "cell_type": "markdown",
   "id": "54ac0a9a-49b7-4418-859a-591fb70b4d16",
   "metadata": {},
   "source": [
    "# 3. Describe the main differences between the array and numpy packages."
   ]
  },
  {
   "cell_type": "markdown",
   "id": "cd8283aa-e380-4779-b6c9-1e595c2dcbcc",
   "metadata": {},
   "source": [
    "The main differences between the array and numpy packages are :\n",
    "\n",
    "1) Array supports 1D arrays while numpy supports multi-dimensional arrays.\n",
    "2) Array does not directly support element-wise math while numpy supports element-wise oprations like arithmatic, linear algebra etc.\n",
    "3) Array supports only primitive types while numpy supports many data types like complex numbers, booleans, etc.\n",
    "4) Array are more efficient than list but not optimized for large scale numerical computation while numpy highly optimized with vectorized operations.\n",
    "5) Array are simple and useful for small, memory efficient, fixed data type while numpy widly used in scientific computing, machine learning."
   ]
  },
  {
   "cell_type": "markdown",
   "id": "2acb8938-d7a9-4ce2-a7f0-a4c84caa740d",
   "metadata": {},
   "source": [
    "# 4. Explain the distinctions between the empty, ones, and zeros functions."
   ]
  },
  {
   "cell_type": "markdown",
   "id": "c38f7325-8cbb-4abe-9962-4197eb4dba2c",
   "metadata": {},
   "source": [
    "The distinctions between the empty, ones and zeros functions are as below:\n",
    "\n",
    "# empty :\n",
    "\n",
    "  Creats an array of given shape without initializing values.\n",
    "  Fast but not safe for default values.\n",
    "  We can manually fill the array with new values.\n",
    "\n",
    "# Ones :\n",
    "\n",
    "   Creats an array filled with 1s.\n",
    "   Use when need default initialized array.\n",
    "   Useful for multiplicative identity.\n",
    "\n",
    "# Zeros :\n",
    "\n",
    "   Creats an array filled with 0s.\n",
    "   Use when empty looking array with zero value.\n",
    "   Useful for additive identity."
   ]
  },
  {
   "cell_type": "markdown",
   "id": "451f5d66-8f3e-41ab-9011-3da8e3fa7846",
   "metadata": {},
   "source": [
    "# 5. In the fromfunction function, which is used to construct new arrays, what is the role of the callable argument?"
   ]
  },
  {
   "cell_type": "markdown",
   "id": "270579b8-1325-493e-bcb4-cfee5edcf9ff",
   "metadata": {},
   "source": [
    "The callable argument is a function that defines how to compute the values of array based on its indices.\n",
    "The role of callable argument is :\n",
    "\n",
    "1) It is called with indices of the array as arguments.\n",
    "2) The return value of the callable is used to fill the array."
   ]
  },
  {
   "cell_type": "markdown",
   "id": "adfd9fd4-1fba-494f-9141-6f3b99676465",
   "metadata": {},
   "source": [
    "# 6. What happens when a numpy array is combined with a single-value operand (a scalar, such as an int or a floating-point value) through addition, as in the expression A + n?"
   ]
  },
  {
   "cell_type": "markdown",
   "id": "7652e088-8af3-498f-8545-e22c2ad29261",
   "metadata": {},
   "source": [
    "When a numpy array is combined with a single-value operand through addition as in the expression A + n numpy applies the operation element-wise.It automatically adds the scalar n to every element of array A.This behaviour is called broadcasting."
   ]
  },
  {
   "cell_type": "markdown",
   "id": "9177fa0b-e4d0-4715-9f5b-9fc6868d7cb7",
   "metadata": {},
   "source": [
    "# 7. Can array-to-scalar operations use combined operation-assign operators (such as += or *=)? What is the outcome?"
   ]
  },
  {
   "cell_type": "markdown",
   "id": "653ecb64-3e73-455d-a2e7-57f95c33b316",
   "metadata": {},
   "source": [
    "Yes, array-to-scalar operations use combined operation-assign operators.This operator perform element-wise operations in-place on the array."
   ]
  },
  {
   "cell_type": "markdown",
   "id": "6367fb4b-0757-476b-95da-6920d7915ca1",
   "metadata": {},
   "source": [
    "# 8. Does a numpy array contain fixed-length strings? What happens if you allocate a longer string to one of these arrays?"
   ]
  },
  {
   "cell_type": "markdown",
   "id": "e675c25b-3c51-4c34-a6cf-1024e50757eb",
   "metadata": {},
   "source": [
    "Yes, a numpy array contain fixed-length strings. If we allocate a longer string to one of these arrays it truncates the string to fit in fixed length."
   ]
  },
  {
   "cell_type": "markdown",
   "id": "e0eb0fe5-8556-44f3-944f-9a4cd91b510d",
   "metadata": {},
   "source": [
    "# 9. What happens when you combine two numpy arrays using an operation like addition (+) or multiplication (*)? What are the conditions for combining two numpy arrays?"
   ]
  },
  {
   "cell_type": "markdown",
   "id": "04ca0a9c-f417-4835-a861-0884dbd482c2",
   "metadata": {},
   "source": [
    "When two numpy arrays using an operation like addition or multiplication the operation is performed element-wise.\n",
    "The conditions for combining two numpy arrays are :\n",
    "\n",
    "1) Both arrays must have the same shape.\n",
    "2) If shapes differ numpy applies brodcasting rules to make them compatiable."
   ]
  },
  {
   "cell_type": "markdown",
   "id": "59633e1a-030b-4a3b-8a81-ca9ac50f1c8b",
   "metadata": {},
   "source": [
    "# 10. What is the best way to use a Boolean array to mask another array?"
   ]
  },
  {
   "cell_type": "markdown",
   "id": "b6f006bc-6576-403a-b158-abadefb74d18",
   "metadata": {},
   "source": [
    "The best way to use a Boolean array to mask another array is by using Boolean indexing which means using Boolean array as a filter to select element from another array."
   ]
  },
  {
   "cell_type": "markdown",
   "id": "13ce6b6e-6f2c-45c9-86f3-ce33a0d85949",
   "metadata": {},
   "source": [
    "# 11. What are three different ways to get the standard deviation of a wide collection of data using both standard Python and its packages? Sort the three of them by how quickly they execute."
   ]
  },
  {
   "cell_type": "markdown",
   "id": "f8d9c0fd-b110-44f8-9628-cec3885b02ea",
   "metadata": {},
   "source": [
    "Three different ways to get the standard deviation of a wide collection of data using both standard Python and its packages, sorted by execution speed are as below :\n",
    "\n",
    "1) NumPy's np.std() is fastest speed\n",
    "2) statistics.stdev() is moderated speed\n",
    "3) Manual Calculation(Pure Python) is slowest speed"
   ]
  },
  {
   "cell_type": "markdown",
   "id": "d11d4f7d-3e12-4e43-a533-f5c72f63bf48",
   "metadata": {},
   "source": [
    "# 12. What is the dimensionality of a Boolean mask-generated array?"
   ]
  },
  {
   "cell_type": "markdown",
   "id": "684087c1-4d9c-4258-a62d-96710975c0b1",
   "metadata": {},
   "source": [
    "A Boolean mask-generated array  is 1-dimensional."
   ]
  },
  {
   "cell_type": "code",
   "execution_count": null,
   "id": "f77ead12-54b1-460f-b879-97f82944328b",
   "metadata": {},
   "outputs": [],
   "source": []
  }
 ],
 "metadata": {
  "kernelspec": {
   "display_name": "Python [conda env:base] *",
   "language": "python",
   "name": "conda-base-py"
  },
  "language_info": {
   "codemirror_mode": {
    "name": "ipython",
    "version": 3
   },
   "file_extension": ".py",
   "mimetype": "text/x-python",
   "name": "python",
   "nbconvert_exporter": "python",
   "pygments_lexer": "ipython3",
   "version": "3.12.7"
  }
 },
 "nbformat": 4,
 "nbformat_minor": 5
}
