{
 "cells": [
  {
   "cell_type": "markdown",
   "id": "4f80ab0d-d4f3-421c-9639-01725c1677b7",
   "metadata": {},
   "source": [
    "# 1.What is the purpose of Python's OOP?"
   ]
  },
  {
   "cell_type": "markdown",
   "id": "6e9ad322-07bf-4177-a018-ce76b1802dc4",
   "metadata": {},
   "source": [
    "The purpose of Python's OOP is to make programe more modular, reusable and easier to maintain. \n",
    "1) inheritance : For code reusability\n",
    "2) abstraction : To reduce complexity\n",
    "3) encapsulation : To protect internal object details \n",
    "4) polymorphism : For flexibility in code "
   ]
  },
  {
   "cell_type": "markdown",
   "id": "1546324f-3023-4976-a76a-1642262af23f",
   "metadata": {},
   "source": [
    "# 2.Where does an inheritance search look for an attribute?"
   ]
  },
  {
   "cell_type": "markdown",
   "id": "f360df93-8eff-4891-9f03-8d248fd02cf5",
   "metadata": {},
   "source": [
    "An inheritance search look for an attribute in instance, class, parents class, object."
   ]
  },
  {
   "cell_type": "markdown",
   "id": "e4968b2d-802e-4125-9c94-dd6f7f01e99e",
   "metadata": {},
   "source": [
    "# 3.How do you distinguish between a class object and an instance object?"
   ]
  },
  {
   "cell_type": "markdown",
   "id": "64aba4e9-7e30-4040-9971-bbd3e0c5087a",
   "metadata": {},
   "source": [
    "A Class object :\n",
    "\n",
    " It is a user defined data type also called blueprint or template for creating objects.\n",
    "    \n",
    " We can define it by using class keyword.\n",
    "\n",
    " Each class has only one memory location.\n",
    "\n",
    "\n",
    "An Instance object :\n",
    "\n",
    " It is a real object created from a class.\n",
    "\n",
    " It is defined by calling the class.\n",
    "     \n",
    " Each instance object has its own separate memory location.\n",
    "     \n",
    " We can create multiple instance object from a single class."
   ]
  },
  {
   "cell_type": "markdown",
   "id": "60dc8d59-ab40-471a-9fc5-2e59d2c3093b",
   "metadata": {},
   "source": [
    "# 4.What makes the first argument in a class’s method function special?"
   ]
  },
  {
   "cell_type": "markdown",
   "id": "79cbc00d-7ab4-4982-a0ad-f4d250ace415",
   "metadata": {},
   "source": [
    "The argument in a class's method function refers to the object itself which allowing the method to acess or modify instance variable which make it special."
   ]
  },
  {
   "cell_type": "markdown",
   "id": "f39e8d98-eb1d-403d-a2d3-fdb3e642be6d",
   "metadata": {},
   "source": [
    "# 5. What is the purpose of the __init__ method?"
   ]
  },
  {
   "cell_type": "markdown",
   "id": "57fef12a-5a8b-46c1-b48f-e942bccea1d9",
   "metadata": {},
   "source": [
    "The purpose of the init method is to initializes the object's state when it's created or in other word to assign values to object properties."
   ]
  },
  {
   "cell_type": "markdown",
   "id": "44f719ff-3e64-493d-a9e8-d76a4b94627d",
   "metadata": {},
   "source": [
    "# 6. What is the process for creating a class instance?"
   ]
  },
  {
   "cell_type": "markdown",
   "id": "719f8ecf-f13e-420e-8661-8e3b84c7d875",
   "metadata": {},
   "source": [
    "The process for creating a class instance is :\n",
    "    \n",
    "    1) Define a class that contains the method and attributes that object of that class will have.\n",
    "    \n",
    "    2) Create an instance by calling the class.\n",
    "        \n",
    "    3) use the instance to access the attributes and method of class."
   ]
  },
  {
   "cell_type": "markdown",
   "id": "5aad52c4-d2aa-4861-aee3-6fe2a1a67224",
   "metadata": {},
   "source": [
    "# 7. What is the process for creating a class?"
   ]
  },
  {
   "cell_type": "markdown",
   "id": "4ffa266b-f95e-4532-b5a1-42c5259ddce3",
   "metadata": {},
   "source": [
    "The process for creating a class is :\n",
    " 1) Use the class keyword to define the class.\n",
    " 2) Give the class a name.\n",
    " 3) Define attributes and methods inside the class body."
   ]
  },
  {
   "cell_type": "markdown",
   "id": "77a230cc-9ca2-4cf7-847c-48c8cfe57e28",
   "metadata": {},
   "source": [
    "# 8. How would you define the superclasses of a class?"
   ]
  },
  {
   "cell_type": "code",
   "execution_count": null,
   "id": "a7fc1c79-dd21-4eb2-a971-5b6d58be39c2",
   "metadata": {},
   "outputs": [],
   "source": [
    "To define the superclasses or parent classes of a class include the name of superclasses inside the parentheses when defining the subclass or child class."
   ]
  }
 ],
 "metadata": {
  "kernelspec": {
   "display_name": "Python [conda env:base] *",
   "language": "python",
   "name": "conda-base-py"
  },
  "language_info": {
   "codemirror_mode": {
    "name": "ipython",
    "version": 3
   },
   "file_extension": ".py",
   "mimetype": "text/x-python",
   "name": "python",
   "nbconvert_exporter": "python",
   "pygments_lexer": "ipython3",
   "version": "3.12.7"
  }
 },
 "nbformat": 4,
 "nbformat_minor": 5
}
