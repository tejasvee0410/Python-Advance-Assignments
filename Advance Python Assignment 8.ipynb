{
 "cells": [
  {
   "cell_type": "markdown",
   "id": "fc27a99a-d89f-42a8-a85f-c2c94bf16b7f",
   "metadata": {},
   "source": [
    "# 1.What are the two latest user-defined exception constraints in Python 3.X?"
   ]
  },
  {
   "cell_type": "markdown",
   "id": "0e10f6e5-5d87-42db-ad17-8dca8f6a3b34",
   "metadata": {},
   "source": [
    "The two latest user-defined exception constraints in Python 3.X are :\n",
    "1) All user defined exception must inherit from the built-in BaseException class usually Exception class.\n",
    "2) The object raised must be either an instance of a class that inherit from BaseException or the Exception class itself."
   ]
  },
  {
   "cell_type": "markdown",
   "id": "40303128-2c5f-4720-8d96-2ac0066ca557",
   "metadata": {},
   "source": [
    "# 2. How are class-based exceptions that have been raised matched to handlers?"
   ]
  },
  {
   "cell_type": "markdown",
   "id": "805d9a55-5606-4fa6-b64d-dec39056a457",
   "metadata": {},
   "source": [
    "When a class based exception is raised it is matched to handlers based on order of except block and inheritance.\n",
    "    \n",
    "Matching process is as follow :\n",
    "1) Python looks for an except block that matches the exact exception class.\n",
    "2) If no exact match is found Python moves up the inheritance hierarchy and looks for matching parent types.\n",
    "3) If there are multiple except block in try statement then the first except block that matches the type of exception is used."
   ]
  },
  {
   "cell_type": "markdown",
   "id": "2c8840c8-2d19-46e3-a919-40223fde9652",
   "metadata": {},
   "source": [
    "# 3.Describe two methods for attaching context information to exception artefacts."
   ]
  },
  {
   "cell_type": "code",
   "execution_count": null,
   "id": "648285c2-6c99-4a58-aa31-9e3c409b6f59",
   "metadata": {},
   "outputs": [],
   "source": [
    "Two methods for attaching context information to exception artefacts are as follow :\n",
    "1) Custom Exception Class with Extra Attributes :\n",
    "    We can define our own exception class and add a custom attributes to store context- specific information like filename, error code or user input.\n",
    "2) Exception Chaining :\n",
    "    Use raise new_exception from original_exception to retain the original context when handling one exception and raising another."
   ]
  },
  {
   "cell_type": "code",
   "execution_count": 1,
   "id": "3dbcd5c3-528f-4080-b460-e298f18ec4c7",
   "metadata": {},
   "outputs": [
    {
     "name": "stdout",
     "output_type": "stream",
     "text": [
      "Error in file: data.csv\n",
      "Reason: File not found\n"
     ]
    }
   ],
   "source": [
    "# For 1st one :\n",
    "class FileReadError(Exception):\n",
    "    def __init__(self, filename, message):\n",
    "        super().__init__(message)\n",
    "        self.filename = filename\n",
    "        self.message = message\n",
    "\n",
    "try:\n",
    "    raise FileReadError(\"data.csv\", \"File not found\")\n",
    "except FileReadError as e:\n",
    "    print(\"Error in file:\", e.filename)\n",
    "    print(\"Reason:\", e.message)"
   ]
  },
  {
   "cell_type": "code",
   "execution_count": 3,
   "id": "7fe1ff59-d784-4334-b70c-cff3de506489",
   "metadata": {},
   "outputs": [
    {
     "ename": "RuntimeError",
     "evalue": "Failed to parse input",
     "output_type": "error",
     "traceback": [
      "\u001b[1;31m---------------------------------------------------------------------------\u001b[0m",
      "\u001b[1;31mValueError\u001b[0m                                Traceback (most recent call last)",
      "Cell \u001b[1;32mIn[3], line 3\u001b[0m\n\u001b[0;32m      2\u001b[0m \u001b[38;5;28;01mtry\u001b[39;00m:\n\u001b[1;32m----> 3\u001b[0m     \u001b[38;5;28mint\u001b[39m(\u001b[38;5;124m\"\u001b[39m\u001b[38;5;124mabc\u001b[39m\u001b[38;5;124m\"\u001b[39m)\n\u001b[0;32m      4\u001b[0m \u001b[38;5;28;01mexcept\u001b[39;00m \u001b[38;5;167;01mValueError\u001b[39;00m \u001b[38;5;28;01mas\u001b[39;00m e:\n",
      "\u001b[1;31mValueError\u001b[0m: invalid literal for int() with base 10: 'abc'",
      "\nThe above exception was the direct cause of the following exception:\n",
      "\u001b[1;31mRuntimeError\u001b[0m                              Traceback (most recent call last)",
      "Cell \u001b[1;32mIn[3], line 5\u001b[0m\n\u001b[0;32m      3\u001b[0m     \u001b[38;5;28mint\u001b[39m(\u001b[38;5;124m\"\u001b[39m\u001b[38;5;124mabc\u001b[39m\u001b[38;5;124m\"\u001b[39m)\n\u001b[0;32m      4\u001b[0m \u001b[38;5;28;01mexcept\u001b[39;00m \u001b[38;5;167;01mValueError\u001b[39;00m \u001b[38;5;28;01mas\u001b[39;00m e:\n\u001b[1;32m----> 5\u001b[0m     \u001b[38;5;28;01mraise\u001b[39;00m \u001b[38;5;167;01mRuntimeError\u001b[39;00m(\u001b[38;5;124m\"\u001b[39m\u001b[38;5;124mFailed to parse input\u001b[39m\u001b[38;5;124m\"\u001b[39m) \u001b[38;5;28;01mfrom\u001b[39;00m \u001b[38;5;21;01me\u001b[39;00m\n",
      "\u001b[1;31mRuntimeError\u001b[0m: Failed to parse input"
     ]
    }
   ],
   "source": [
    "# For 2nd :\n",
    "try:\n",
    "    int(\"abc\")\n",
    "except ValueError as e:\n",
    "    raise RuntimeError(\"Failed to parse input\") from e"
   ]
  },
  {
   "cell_type": "markdown",
   "id": "75eb8ae1-e6aa-4d7c-af6e-76ffb5fc4edd",
   "metadata": {},
   "source": [
    "# 4.Describe two methods for specifying the text of an exception object&#39;s error message."
   ]
  },
  {
   "cell_type": "markdown",
   "id": "76176a11-380a-4720-a790-b6b2a2afa064",
   "metadata": {},
   "source": [
    "Two methods for specifying the text of an exception object's error message are as follow :\n",
    "\n",
    "1) Pass the message when raising the Exception:\n",
    "\n",
    "   We can directly pass the error message as a string when raising the exception.\n",
    "   This work for built-in and custom exception.\n",
    "    \n",
    "2) Define a custom exception class and override __str__ or store message in __init__ :\n",
    "   This method gives full control over how the message is formatted or displayed."
   ]
  },
  {
   "cell_type": "markdown",
   "id": "12e579a6-c762-438f-9dd5-a51bdbb47449",
   "metadata": {},
   "source": [
    "# 5. Why do you no longer use string-based exceptions?"
   ]
  },
  {
   "cell_type": "markdown",
   "id": "ca05534e-e122-4564-bb16-2491f3e3b9b5",
   "metadata": {},
   "source": [
    "String-based exceptions were removed because they were limited, unstructured and hard to manage.\n",
    "    \n",
    "Here are the main reasons :\n",
    "\n",
    "1) No inheritance or structure :\n",
    "\n",
    "   String can't have behavior,attributes or inheritance.\n",
    "\n",
    "   We can't group them like class.\n",
    "\n",
    "2) Harder to maintain and Debug : \n",
    "\n",
    "   String exception made it difficult to trace or handle error precisely.\n",
    "       \n",
    "   No traceback or detailed context like we get with class-base exceptions.\n",
    "\n",
    "3) Lack of consistency and control."
   ]
  },
  {
   "cell_type": "code",
   "execution_count": null,
   "id": "ee424d0b-c635-4ed4-bbb9-e288610ae22f",
   "metadata": {},
   "outputs": [],
   "source": []
  }
 ],
 "metadata": {
  "kernelspec": {
   "display_name": "Python [conda env:base] *",
   "language": "python",
   "name": "conda-base-py"
  },
  "language_info": {
   "codemirror_mode": {
    "name": "ipython",
    "version": 3
   },
   "file_extension": ".py",
   "mimetype": "text/x-python",
   "name": "python",
   "nbconvert_exporter": "python",
   "pygments_lexer": "ipython3",
   "version": "3.12.7"
  }
 },
 "nbformat": 4,
 "nbformat_minor": 5
}
