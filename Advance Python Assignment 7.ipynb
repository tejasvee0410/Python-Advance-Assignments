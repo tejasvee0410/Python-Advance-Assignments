{
 "cells": [
  {
   "cell_type": "markdown",
   "id": "ff5f6615-cf88-4318-aaf8-7c678f38c9eb",
   "metadata": {},
   "source": [
    "# 1. What is the purpose of the try statement?"
   ]
  },
  {
   "cell_type": "markdown",
   "id": "43e740b2-4250-44e0-b146-cc9e139aea84",
   "metadata": {},
   "source": [
    "The purpose of the try statement is to define a block of code that may raise an exception during the execution of program."
   ]
  },
  {
   "cell_type": "markdown",
   "id": "652c3ddc-cdaa-4078-b5d6-8b76a3786eed",
   "metadata": {},
   "source": [
    "# 2. What are the two most popular try statement variations?"
   ]
  },
  {
   "cell_type": "markdown",
   "id": "e99d2728-95eb-4ce0-817d-a5e1df0dc06e",
   "metadata": {},
   "source": [
    "The two most popular try statement variations are :\n",
    "1) try - except\n",
    "2) try - except - finally"
   ]
  },
  {
   "cell_type": "markdown",
   "id": "f29a61db-a32e-4174-b35b-8a443dd6a211",
   "metadata": {},
   "source": [
    "# 3. What is the purpose of the raise statement?"
   ]
  },
  {
   "cell_type": "markdown",
   "id": "45dab209-a452-4b82-8c1e-bda1994c6bd4",
   "metadata": {},
   "source": [
    "The purpose of the raise statement is to manually trigger an exception which allowing control the flow of error handling.\n",
    "    \n",
    "It is commonly used for following reason : \n",
    "    \n",
    "1)To signal that an error has occurred.\n",
    "\n",
    "2)To enforce certain conditions in program.\n",
    "\n",
    "3)To re-raise an exception for higher-level handling."
   ]
  },
  {
   "cell_type": "markdown",
   "id": "95467466-ec4e-4523-a283-95b326d5cdbc",
   "metadata": {},
   "source": [
    "# 4. What does the assert statement do, and what other statement is it like?"
   ]
  },
  {
   "cell_type": "markdown",
   "id": "4ae5577d-e764-4fa2-a2d5-604be0b6f24a",
   "metadata": {},
   "source": [
    "The assert statement is used to test if a condition is True during the execution of program.\n",
    "\n",
    "If condition is False it raises an AssertionError.\n",
    "\n",
    "The assert statement is like to raise statement as both can be use to trigger an exception."
   ]
  },
  {
   "cell_type": "markdown",
   "id": "55dc2728-55ec-4f64-a728-a95910454b3f",
   "metadata": {},
   "source": [
    "# 5. What is the purpose of the with/as argument, and what other statement is it like?"
   ]
  },
  {
   "cell_type": "markdown",
   "id": "36db902d-208a-40b6-a7fd-549729d1b7a9",
   "metadata": {},
   "source": [
    "The purpose of with/as argument is to simplify resource management like working with files, database connection where setup and cleanup needed.\n",
    "\n",
    "It is like try-finally statement."
   ]
  },
  {
   "cell_type": "code",
   "execution_count": null,
   "id": "b6867648-f24b-4ce0-948a-fa37a03de699",
   "metadata": {},
   "outputs": [],
   "source": []
  }
 ],
 "metadata": {
  "kernelspec": {
   "display_name": "Python [conda env:base] *",
   "language": "python",
   "name": "conda-base-py"
  },
  "language_info": {
   "codemirror_mode": {
    "name": "ipython",
    "version": 3
   },
   "file_extension": ".py",
   "mimetype": "text/x-python",
   "name": "python",
   "nbconvert_exporter": "python",
   "pygments_lexer": "ipython3",
   "version": "3.12.7"
  }
 },
 "nbformat": 4,
 "nbformat_minor": 5
}
