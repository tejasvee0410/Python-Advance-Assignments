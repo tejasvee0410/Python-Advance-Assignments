{
 "cells": [
  {
   "cell_type": "markdown",
   "id": "a8cb518e-449f-417e-bc7b-76c8e3bc3123",
   "metadata": {},
   "source": [
    "# 1. What are the new features added in Python 3.8 version?"
   ]
  },
  {
   "cell_type": "markdown",
   "id": "38626f8d-2401-4c7d-94f0-b95d99cff744",
   "metadata": {},
   "source": [
    "In Python 3.8 version several new features added like:\n",
    "\n",
    "walrus operator(:=)\n",
    "\n",
    "positional-only parameters\n",
    "\n",
    "f-string debugging\n",
    "\n",
    "many new math and statistics functions\n",
    "\n",
    "TypeDict in typing module\n",
    "\n",
    "improved re(Regex) module, etc.  "
   ]
  },
  {
   "cell_type": "markdown",
   "id": "faa1762f-59be-48cb-8d6e-bd6fd5ecd021",
   "metadata": {},
   "source": [
    "# 2. What is monkey patching in Python?"
   ]
  },
  {
   "cell_type": "markdown",
   "id": "47af2b7b-f05a-488c-90ef-06e4349a3375",
   "metadata": {},
   "source": [
    "In Python monkey patching means modifying or extending code at runtime by changing methods or attributes of classes, modules or objects without changing their source code."
   ]
  },
  {
   "cell_type": "markdown",
   "id": "89f4dfaa-c1bd-4817-adcb-357578ae699e",
   "metadata": {},
   "source": [
    "# 3. What is the difference between a shallow copy and deep copy?"
   ]
  },
  {
   "cell_type": "markdown",
   "id": "ee7d2deb-b24e-4e40-b1a7-dd4a61f68b9a",
   "metadata": {},
   "source": [
    "The difference between a shallow copy and deep copy is :\n",
    "\n",
    "A shallow copy means it refers original list if we do any changes in shallow copy than original list will be modified.\n",
    "It use copy.copy() function from copy module.\n",
    "\n",
    "A deep copy means it creates new list if we do any changes in deep copy it doesn't affect original list.\n",
    "It use copy.deepcopy() function from copy module."
   ]
  },
  {
   "cell_type": "markdown",
   "id": "79e9f2e8-79bb-4b74-a7cd-74b271ba6d8c",
   "metadata": {},
   "source": [
    "# 4. What is the maximum possible length of an identifier?"
   ]
  },
  {
   "cell_type": "markdown",
   "id": "c9d90f73-2e01-48a7-9f6c-8b0623456da4",
   "metadata": {},
   "source": [
    "There is no predefine maximum possible length of an identifier."
   ]
  },
  {
   "cell_type": "markdown",
   "id": "c1136c5b-9504-41bd-860c-7e6fb2f78f1c",
   "metadata": {},
   "source": [
    "# 5. What is generator comprehension?"
   ]
  },
  {
   "cell_type": "markdown",
   "id": "aee5b7f7-1f12-484a-8fe1-f5fcd15bf46b",
   "metadata": {},
   "source": [
    "Generator comprehension is a way to create a generator using syntax similar to list comprehension. It produce one value at a time.\n",
    "    \n",
    "syntax :(expression for item in iterable if condition)"
   ]
  },
  {
   "cell_type": "code",
   "execution_count": null,
   "id": "e95287bf-b6ba-4829-902c-54c04c604cfc",
   "metadata": {},
   "outputs": [],
   "source": []
  }
 ],
 "metadata": {
  "kernelspec": {
   "display_name": "Python [conda env:base] *",
   "language": "python",
   "name": "conda-base-py"
  },
  "language_info": {
   "codemirror_mode": {
    "name": "ipython",
    "version": 3
   },
   "file_extension": ".py",
   "mimetype": "text/x-python",
   "name": "python",
   "nbconvert_exporter": "python",
   "pygments_lexer": "ipython3",
   "version": "3.12.7"
  }
 },
 "nbformat": 4,
 "nbformat_minor": 5
}
