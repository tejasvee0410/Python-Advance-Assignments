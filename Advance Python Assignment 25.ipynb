{
 "cells": [
  {
   "cell_type": "markdown",
   "id": "023edcea-21e9-4bdb-8709-2991caa9e193",
   "metadata": {},
   "source": [
    "# 1. What is the distinction between a numpy array and a pandas data frame? Is there a way to convert between the two if there is?"
   ]
  },
  {
   "cell_type": "markdown",
   "id": "9607a5ca-c258-4fcd-8e15-bceb1da35638",
   "metadata": {},
   "source": [
    "The distinction between a numpy array and a pandas data frame is :\n",
    "\n",
    "# numpy array :\n",
    "\n",
    "1) It stores only numbers or only one data type.\n",
    "2) It is like a grid or table with just value.\n",
    "3) It does not have column names or row lables.\n",
    "4) Mostly used for math and calculation.\n",
    "\n",
    "# pandas data frame :\n",
    "\n",
    "1) It stores different types of data like numbers, text, dates, etc.\n",
    "2) It has column names and row lables.\n",
    "3) Used for data analysis, filtering, cleaning.\n",
    "\n",
    "A way to convert between the two :\n",
    "\n",
    "1) NumPy to DataFrame : pd.DataFrame(array)\n",
    "2) DataFrame to NumPy : df.to_numpy()"
   ]
  },
  {
   "cell_type": "markdown",
   "id": "bfa025df-bff5-45e7-ac16-b1b4759b1e58",
   "metadata": {},
   "source": [
    "# 2. What can go wrong when an user enters in a stock-ticker symbol, and how do you handle it?"
   ]
  },
  {
   "cell_type": "markdown",
   "id": "6f407509-7b69-4e6d-ac3e-a4f5f1e6bfee",
   "metadata": {},
   "source": [
    "Can go wrong :\n",
    "\n",
    "1) Invalid symbol\n",
    "2) Typo or case sensitivity\n",
    "3) Empty Input\n",
    "4) Extra space or characters\n",
    "5) Inactive symbol\n",
    "6) API/Internet issues\n",
    "\n",
    "To handle it :\n",
    "\n",
    "1) Clean the input \n",
    "2) Check for empty input\n",
    "3) Validate symbol\n",
    "4) Use try-except for error"
   ]
  },
  {
   "cell_type": "markdown",
   "id": "ac5f35c8-830d-4fb4-b29e-8bc30e9544f9",
   "metadata": {},
   "source": [
    "# 3. Identify some of the plotting techniques that are used to produce a stock-market chart."
   ]
  },
  {
   "cell_type": "markdown",
   "id": "69354b2b-e583-43a0-909c-de6fc002265f",
   "metadata": {},
   "source": [
    "Some of the plotting techniques are :\n",
    "\n",
    "1) Line Plot\n",
    "2) Candlestick chart\n",
    "3) Bar chart \n",
    "4) Moving Averages plot\n",
    "5) Volume chart\n",
    "6) Bollinger bands\n",
    "7) Scatter plot"
   ]
  },
  {
   "cell_type": "markdown",
   "id": "8ecf02ab-1f01-48c2-bfb5-951c15bfab07",
   "metadata": {},
   "source": [
    "# 4. Why is it essential to print a legend on a stock market chart?"
   ]
  },
  {
   "cell_type": "markdown",
   "id": "e4e0be9a-d946-4075-a6f5-401c640ce368",
   "metadata": {},
   "source": [
    "It is essential to print a legend on a stock market chart because it helps clearly explian what each plotted line or color represent. \n",
    "Reasons for Using legend :\n",
    "\n",
    "1) For clarity \n",
    "2) Avoid misinterpretation\n",
    "3) Supports decision making\n",
    "4) Proffesional presentation\n",
    "5) Handles multiple indicators"
   ]
  },
  {
   "cell_type": "markdown",
   "id": "8c03b293-2c99-4b67-b0aa-c84aee7c64ad",
   "metadata": {},
   "source": [
    "# 5. What is the best way to limit the length of a pandas data frame to less than a year?"
   ]
  },
  {
   "cell_type": "markdown",
   "id": "da2ce4a3-3d87-461d-8727-d2853922ba05",
   "metadata": {},
   "source": [
    "The best way is filter the rows based on a datetime column using pd.to_datetime() and a time based condition."
   ]
  },
  {
   "cell_type": "markdown",
   "id": "ba788359-9e8d-4376-8e94-9d1ed9ff12ce",
   "metadata": {},
   "source": [
    "# 6. What is the definition of a 180-day moving average?"
   ]
  },
  {
   "cell_type": "markdown",
   "id": "7b35108e-485a-4b68-beed-712c40076215",
   "metadata": {},
   "source": [
    "The definition of a 180-day moving average is calculate the average value of dataset over the past 180 days."
   ]
  },
  {
   "cell_type": "markdown",
   "id": "bc52f47e-19c5-4e0f-a1d5-f66b10389aa4",
   "metadata": {},
   "source": [
    "# 7. Did the chapter's final example use 'indirect' importing? If so, how exactly do you do it?"
   ]
  },
  {
   "cell_type": "markdown",
   "id": "4de46d58-c00a-4993-8ddd-b7b728920fcf",
   "metadata": {},
   "source": [
    "Yes, the chapter's final example use 'indirect' importing. \n",
    "\n",
    "To do exactly :\n",
    "1) Import inside the function or method.\n",
    "2) Through another module."
   ]
  },
  {
   "cell_type": "code",
   "execution_count": null,
   "id": "c86b6f7f-126f-4b98-97f8-9337b633a322",
   "metadata": {},
   "outputs": [],
   "source": []
  }
 ],
 "metadata": {
  "kernelspec": {
   "display_name": "Python [conda env:base] *",
   "language": "python",
   "name": "conda-base-py"
  },
  "language_info": {
   "codemirror_mode": {
    "name": "ipython",
    "version": 3
   },
   "file_extension": ".py",
   "mimetype": "text/x-python",
   "name": "python",
   "nbconvert_exporter": "python",
   "pygments_lexer": "ipython3",
   "version": "3.12.7"
  }
 },
 "nbformat": 4,
 "nbformat_minor": 5
}
