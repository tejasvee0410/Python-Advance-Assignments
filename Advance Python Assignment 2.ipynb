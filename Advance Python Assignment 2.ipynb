{
 "cells": [
  {
   "cell_type": "markdown",
   "id": "89985dc8-9c38-4395-b305-816548c2e54e",
   "metadata": {},
   "source": [
    "# 1. What is the relationship between classes and modules?"
   ]
  },
  {
   "cell_type": "markdown",
   "id": "315ae428-f848-497f-8a8a-51bb8db3ea12",
   "metadata": {},
   "source": [
    "A module is a python file that contains functions,variables and classes.\n",
    "\n",
    "A module can contain one or more classes.\n",
    "\n",
    "Modules help to organize code which make easier to manage and reuse code.\n",
    "\n",
    "Classes are often ddefined within modules.\n",
    "    \n",
    "We can import classes from modules to use them in other parts of program."
   ]
  },
  {
   "cell_type": "markdown",
   "id": "2c59f896-0427-41d3-926a-2809135e4f79",
   "metadata": {},
   "source": [
    "# 2. How do you make instances and classes?"
   ]
  },
  {
   "cell_type": "markdown",
   "id": "e97154b3-eeb7-4336-9c7e-8c2187441a2a",
   "metadata": {},
   "source": [
    "To make classes and instance :\n",
    "\n",
    "1) Define a class that contains the method and attributes that object of that class will have.\n",
    "\n",
    "2) Create an instance by calling the class.\n",
    "    \n",
    "3) use the instance to access the attributes and method of class."
   ]
  },
  {
   "cell_type": "markdown",
   "id": "cf8ee2e1-eef3-4caa-8f47-2f4a0b133608",
   "metadata": {},
   "source": [
    "# 3. Where and how should be class attributes created?"
   ]
  },
  {
   "cell_type": "markdown",
   "id": "19cb2660-2aca-4ba5-8134-6d6e40f462b0",
   "metadata": {},
   "source": [
    "class attributes created inside the class but outside the any method."
   ]
  },
  {
   "cell_type": "markdown",
   "id": "d0030b91-87e5-4b75-88dc-fb02f90f2c47",
   "metadata": {},
   "source": [
    "# 4. Where and how are instance attributes created?"
   ]
  },
  {
   "cell_type": "markdown",
   "id": "75a5c94d-a9c2-4c4d-8ae6-4518bc0c3c83",
   "metadata": {},
   "source": [
    "Instance attributes created inside the __init__() or other methods."
   ]
  },
  {
   "cell_type": "markdown",
   "id": "5e8796ca-c6e8-4bc1-8f42-4e2f3c2c4299",
   "metadata": {},
   "source": [
    "# 5. What does the term \"self\" in a Python class mean?"
   ]
  },
  {
   "cell_type": "markdown",
   "id": "286a48ab-894a-4fea-96fd-77dab6fe238e",
   "metadata": {},
   "source": [
    "The term \"self\" in a Python class represents the instance of class which allow to access and modify instance attributes and methods within a class. "
   ]
  },
  {
   "cell_type": "markdown",
   "id": "1c57b32b-6e43-49a3-9e22-963cd6c1a36a",
   "metadata": {},
   "source": [
    "# 6.How does a Python class handle operator overloading?"
   ]
  },
  {
   "cell_type": "markdown",
   "id": "aede528e-d067-4819-9095-07e09d989c10",
   "metadata": {},
   "source": [
    "A Python class handle operator overloading using special method which start and end with double underscore like __add__,__sub__,__mul__,__eq__ etc."
   ]
  },
  {
   "cell_type": "markdown",
   "id": "3aa3bc65-0b76-473c-8130-e58e08756a70",
   "metadata": {},
   "source": [
    "# 7. When do you consider allowing operator overloading of your classes?"
   ]
  },
  {
   "cell_type": "markdown",
   "id": "5ab70fbc-620f-43f0-8e57-0c7f82834d82",
   "metadata": {},
   "source": [
    "Allowing operator overloading of classes when :\n",
    "\n",
    "1) It improves readability and natural usage\n",
    "\n",
    "2) If classes represent mathematical or logical concept\n",
    "\n",
    "3) If it behave like a container or built-in type"
   ]
  },
  {
   "cell_type": "markdown",
   "id": "a6abc4a8-2803-4c4a-834b-077bfd42f0a8",
   "metadata": {},
   "source": [
    "# 8. What is the most popular form of operator overloading?"
   ]
  },
  {
   "cell_type": "markdown",
   "id": "4faa6282-2ceb-41d4-bece-4012d4dc2544",
   "metadata": {},
   "source": [
    "The most popular form of operator overloading is the overloading + operator using __add__() method."
   ]
  },
  {
   "cell_type": "markdown",
   "id": "29506df1-5649-481c-9d7d-82ea06eb4819",
   "metadata": {},
   "source": [
    "# 9.What are the two most important concepts to grasp in order to comprehend Python OOP code?"
   ]
  },
  {
   "cell_type": "code",
   "execution_count": null,
   "id": "5ef891b4-29f3-4d06-9682-33483de494a1",
   "metadata": {},
   "outputs": [],
   "source": [
    "The most important concepts to grasp in order to comprehend Python OOP code are :\n",
    "1) Classes and object\n",
    "2) __init__() and self"
   ]
  }
 ],
 "metadata": {
  "kernelspec": {
   "display_name": "Python [conda env:base] *",
   "language": "python",
   "name": "conda-base-py"
  },
  "language_info": {
   "codemirror_mode": {
    "name": "ipython",
    "version": 3
   },
   "file_extension": ".py",
   "mimetype": "text/x-python",
   "name": "python",
   "nbconvert_exporter": "python",
   "pygments_lexer": "ipython3",
   "version": "3.12.7"
  }
 },
 "nbformat": 4,
 "nbformat_minor": 5
}
