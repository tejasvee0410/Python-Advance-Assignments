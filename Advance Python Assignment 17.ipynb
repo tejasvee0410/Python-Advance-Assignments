{
 "cells": [
  {
   "cell_type": "markdown",
   "id": "110211a2-2c2b-4165-bccb-a28d53d14079",
   "metadata": {},
   "source": [
    "# 1. Explain the difference between greedy and non-greedy syntax with visual terms in as few words as possible. What is the bare minimum effort required to transform a greedy pattern into a non-greedy one? What characters or characters can you introduce or change?"
   ]
  },
  {
   "cell_type": "markdown",
   "id": "b5bb99a4-06a0-4cf5-8262-2a56c34f8ebd",
   "metadata": {},
   "source": [
    "The difference between greedy and non-greedy is :\n",
    "\n",
    "greedy matches as much as possible while non-greedy matches as little as possible.\n",
    "\n",
    "syntax with visual terms :  \"<tag>data</tag>\"\n",
    "\n",
    "greedy : r\"<.*>\"  ->  matches : \"<tag>data</tag>\"\n",
    "\n",
    "non-greedy : r\"<.*?>\" -> matches : \"<tag>\"\n",
    "\n",
    "Minimum change to convert greedy into non-greedy is add ? after quantifier (*, +, ?, {}).\n"
   ]
  },
  {
   "cell_type": "markdown",
   "id": "545a4eee-a4f9-4fb6-8a73-8fc79536b2eb",
   "metadata": {},
   "source": [
    "# 2. When exactly does greedy versus non-greedy make a difference?  What if you're looking for a non-greedy match but the only one available is greedy?"
   ]
  },
  {
   "cell_type": "markdown",
   "id": "a9c0a574-4a87-42b3-b3d8-f74aafb599c0",
   "metadata": {},
   "source": [
    "When multiple matches are available greedy vs non-greedy make difference. If we are looking for a non-greedy match but the only one available then non-greedy will return the same result as greedy."
   ]
  },
  {
   "cell_type": "markdown",
   "id": "4aa2f19f-4db2-4d27-ab48-b30a147f1ccf",
   "metadata": {},
   "source": [
    "# 3. In a simple match of a string, which looks only for one match and does not do any replacement, is the use of a nontagged group likely to make any practical difference?"
   ]
  },
  {
   "cell_type": "markdown",
   "id": "8421d78e-01d2-4792-a073-042ddbebe271",
   "metadata": {},
   "source": [
    "No, in a simple match nontagged group will not make any practicle difference."
   ]
  },
  {
   "cell_type": "markdown",
   "id": "ffb9501f-fd4c-4e6c-b7ac-7ed5f5bf88fe",
   "metadata": {},
   "source": [
    "# 4. Describe a scenario in which using a nontagged category would have a significant impact on the program's outcomes."
   ]
  },
  {
   "cell_type": "markdown",
   "id": "ba22ec22-1c7d-4fd2-b1e9-2495460c06ed",
   "metadata": {},
   "source": [
    "When we need to extract main data not the internal structure we use nontagged category.\n",
    "\n",
    "Ex. : Here we need to extract only phone number."
   ]
  },
  {
   "cell_type": "code",
   "execution_count": 11,
   "id": "df67aa1d-845b-480b-b1ed-2cec591f09e7",
   "metadata": {},
   "outputs": [
    {
     "name": "stdout",
     "output_type": "stream",
     "text": [
      "('564', '4568')\n"
     ]
    }
   ],
   "source": [
    "import re\n",
    "text = \"Call me at (245) 564-4568\"\n",
    "pattern = r\"(?:\\(\\d{3}\\)) (\\d{3})-(\\d{4})\"\n",
    "match = re.search(pattern, text)\n",
    "print(match.groups())"
   ]
  },
  {
   "cell_type": "markdown",
   "id": "cf734cb7-4675-4748-8f05-76988c840814",
   "metadata": {},
   "source": [
    "# 5. Unlike a normal regex pattern, a look-ahead condition does not consume the characters it examines. Describe a situation in which this could make a difference in the results of your programme."
   ]
  },
  {
   "cell_type": "markdown",
   "id": "e571f8f0-2844-43db-b5e2-8670ab90862b",
   "metadata": {},
   "source": [
    "Look-ahed checks if something comes next but it doesn't consume those character it just look that and leaves.\n",
    "\n",
    "syntax : (?=....)"
   ]
  },
  {
   "cell_type": "code",
   "execution_count": 23,
   "id": "63878e1d-256e-4f21-9448-c20ce2e3118d",
   "metadata": {},
   "outputs": [
    {
     "name": "stdout",
     "output_type": "stream",
     "text": [
      "['banana']\n"
     ]
    }
   ],
   "source": [
    "Text = \"banana raw banana ripe\"\n",
    "match = re.findall(r\"banana(?= ripe)\", Text)\n",
    "print(match)"
   ]
  },
  {
   "cell_type": "markdown",
   "id": "2c487f4b-ca65-48fa-bd3c-0840bd1a7698",
   "metadata": {},
   "source": [
    "# 6. In standard expressions, what is the difference between positive look-ahead and negative look-ahead?"
   ]
  },
  {
   "cell_type": "markdown",
   "id": "e11a2110-9895-4d6d-a4cb-9a44eb09d670",
   "metadata": {},
   "source": [
    "The difference between positive look-ahead and negative look-ahead is :\n",
    "\n",
    "Positive look-ahead matches a pattern only if it is followed by another pattern.\n",
    "    syntax : (?=...)\n",
    "\n",
    "Negative look-ahead matches a pattern only it is not followed by another pattern.\n",
    "    syntax :(?!...)\n"
   ]
  },
  {
   "cell_type": "markdown",
   "id": "b48ce390-f3cd-4ec8-83dc-ede8831223f4",
   "metadata": {},
   "source": [
    "# 7. What is the benefit of referring to groups by name rather than by number in a standard expression?"
   ]
  },
  {
   "cell_type": "markdown",
   "id": "ebb331ef-45a6-4e91-8328-d22d00a473ab",
   "metadata": {},
   "source": [
    "The benefit of referring to groups by name rather than by number in Regex is it improve readability, less error-prone and flexible to maintain."
   ]
  },
  {
   "cell_type": "markdown",
   "id": "e2bbc0fb-6c5c-4c5e-92cf-8eb437d26497",
   "metadata": {},
   "source": [
    "# 8. Can you identify repeated items within a target string using named groups, as in \"The cow jumped over the moon\"?"
   ]
  },
  {
   "cell_type": "code",
   "execution_count": 1,
   "id": "a794f5e0-002b-42e1-8434-b7a45d2cb057",
   "metadata": {},
   "outputs": [
    {
     "name": "stdout",
     "output_type": "stream",
     "text": [
      "Repeated word: the\n"
     ]
    }
   ],
   "source": [
    "import re\n",
    "\n",
    "text = \"the cow jumped over the moon and the cow laughed\"\n",
    "pattern = r\"\\b(?P<word>\\w+)\\b.*\\b(?P=word)\\b\"\n",
    "match = re.search(pattern, text, re.IGNORECASE)\n",
    "\n",
    "if match:\n",
    "    print(\"Repeated word:\", match.group(\"word\"))\n"
   ]
  },
  {
   "cell_type": "markdown",
   "id": "5ab10143-8044-40c9-8deb-973380dc28d4",
   "metadata": {},
   "source": [
    "# 9. When parsing a string, what is at least one thing that the Scanner interface does for you that the re.findall feature does not?"
   ]
  },
  {
   "cell_type": "markdown",
   "id": "124ceb88-3738-4882-8d17-2a3d16aada89",
   "metadata": {},
   "source": [
    "The Scanner interface allows to define multiple token patterns and it processes the string from left to right in order which re.findall feature does not do."
   ]
  },
  {
   "cell_type": "markdown",
   "id": "8e23420d-73a9-4965-b54d-220bc0a1fd8c",
   "metadata": {},
   "source": [
    "# 10. Does a scanner object have to be named scanner?"
   ]
  },
  {
   "cell_type": "markdown",
   "id": "e8eab2f7-b88c-4c07-9356-3f05253b9835",
   "metadata": {},
   "source": [
    "No, a scanner object does not have to be named scanner.scanner is just a variable name."
   ]
  },
  {
   "cell_type": "code",
   "execution_count": null,
   "id": "afbd51bd-950b-412c-8a72-44e0c7dbf71c",
   "metadata": {},
   "outputs": [],
   "source": []
  }
 ],
 "metadata": {
  "kernelspec": {
   "display_name": "Python [conda env:base] *",
   "language": "python",
   "name": "conda-base-py"
  },
  "language_info": {
   "codemirror_mode": {
    "name": "ipython",
    "version": 3
   },
   "file_extension": ".py",
   "mimetype": "text/x-python",
   "name": "python",
   "nbconvert_exporter": "python",
   "pygments_lexer": "ipython3",
   "version": "3.12.7"
  }
 },
 "nbformat": 4,
 "nbformat_minor": 5
}
