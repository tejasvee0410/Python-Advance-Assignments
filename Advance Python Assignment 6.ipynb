{
 "cells": [
  {
   "cell_type": "markdown",
   "id": "888cd148-18b4-4046-aa5a-e2497639423f",
   "metadata": {},
   "source": [
    "# 1.Describe three applications for exception processing."
   ]
  },
  {
   "cell_type": "markdown",
   "id": "81932e62-8cb0-450f-a36a-44d37b9445be",
   "metadata": {},
   "source": [
    "Three applications for exception processing are as below :\n",
    "1) Preventing program crashes : \n",
    "\n",
    "    When unexpected errors  occur exception handling helps to prevent entrire program from crashing by catching exception. It allows program to continue running with meaningful error message which is easy readable.\n",
    "2) Improving code maintability :\n",
    "\n",
    "    With exception handling error related code is separated from main program logic which makes the code easier to read,understand and maintain.\n",
    "3) Centralizing error handling :\n",
    "\n",
    "    Exception Processing allows error handling to be centralized in one or few places which make it consistent and easier to manage across the program."
   ]
  },
  {
   "cell_type": "markdown",
   "id": "8e978342-88a7-4c56-a1a5-d30abe8381ab",
   "metadata": {},
   "source": [
    "# 2. What happens if you don't do something extra to treat an exception?"
   ]
  },
  {
   "cell_type": "markdown",
   "id": "1b7fd65b-3ec5-49d9-ae18-bd0b6d93ae7c",
   "metadata": {},
   "source": [
    "If we don't do something extra to treat an exception program may crash and system will print default error message showing a type error and where it occurred in the code."
   ]
  },
  {
   "cell_type": "markdown",
   "id": "5313e2b6-0c37-4081-b9ee-96eedcaf4faf",
   "metadata": {},
   "source": [
    "# 3. What are your options for recovering from an exception in your script?"
   ]
  },
  {
   "cell_type": "markdown",
   "id": "e1928824-6cf1-403f-9710-37c7d46f4985",
   "metadata": {},
   "source": [
    "Option for recovering from an exception are as below :\n",
    "1) for simple exception use try - except\n",
    "2) for safe execution use try - except - else\n",
    "3) for complation of execution use try - except - else - finally \n",
    "4) log the error for debugging\n",
    "5) retry the operation\n",
    "6) raise a custom exception"
   ]
  },
  {
   "cell_type": "markdown",
   "id": "e4289ee4-5845-47c4-ae3e-7eac51d8900c",
   "metadata": {},
   "source": [
    "# 4. Describe two methods for triggering exceptions in your script."
   ]
  },
  {
   "cell_type": "markdown",
   "id": "3ad86e46-8c06-4b5c-8c25-63617612398f",
   "metadata": {},
   "source": [
    "Two methods for triggering exceptions in script are as follow :\n",
    "1) implicitly which raised by python automatically using in-bulit exception. Ex. TypeError, ZeroDivisionError, IndexError, ValurError etc.\n",
    "2) explicitly which raised by manually using raise keyword."
   ]
  },
  {
   "cell_type": "markdown",
   "id": "f00e3d6d-5fe8-4a88-b91a-e3f3ddb5d20f",
   "metadata": {},
   "source": [
    "# 5. Identify two methods for specifying actions to be executed at termination time, regardless of whether or not an exception exists."
   ]
  },
  {
   "cell_type": "markdown",
   "id": "085091ca-db03-4fed-9b06-0457b3913ca9",
   "metadata": {},
   "source": [
    "Two methods are :\n",
    "1) using finally block\n",
    "2) using with statement"
   ]
  },
  {
   "cell_type": "code",
   "execution_count": null,
   "id": "cc15eb02-d2b6-4880-8107-90d75c4e22c9",
   "metadata": {},
   "outputs": [],
   "source": []
  }
 ],
 "metadata": {
  "kernelspec": {
   "display_name": "Python [conda env:base] *",
   "language": "python",
   "name": "conda-base-py"
  },
  "language_info": {
   "codemirror_mode": {
    "name": "ipython",
    "version": 3
   },
   "file_extension": ".py",
   "mimetype": "text/x-python",
   "name": "python",
   "nbconvert_exporter": "python",
   "pygments_lexer": "ipython3",
   "version": "3.12.7"
  }
 },
 "nbformat": 4,
 "nbformat_minor": 5
}
