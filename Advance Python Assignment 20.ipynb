{
 "cells": [
  {
   "cell_type": "code",
   "execution_count": null,
   "id": "44284f00-cb88-47de-95b8-8c26a588233f",
   "metadata": {},
   "outputs": [],
   "source": [
    "# 1. Compare and contrast the float and Decimal classes' benefits and drawbacks."
   ]
  },
  {
   "cell_type": "markdown",
   "id": "d2650a69-53a1-4e33-919b-e5a9fb6922be",
   "metadata": {},
   "source": [
    "Comparision and contrast of float and decimal is as follow :\n",
    "\n",
    "# 1) float :\n",
    "\n",
    "  # benefits :\n",
    "\n",
    "    float operations are significantly faster than decimal operations.\n",
    "    Use less memory so memory-efficient.\n",
    "    Built-in support means it's default type for most fractional numbers.\n",
    "    Use for general math and science.\n",
    "\n",
    "  # drawbacks :\n",
    "\n",
    "    Rounding errors due to binary floating-point representation.\n",
    "    Not suitable for financial or high precision calculations.\n",
    "\n",
    "\n",
    "# 2) Decimal :\n",
    "\n",
    "  # benefits :\n",
    "\n",
    "    The decimal module allows to set the precision and choose from various rounding modes.\n",
    "    The decimal fraction can be represented exactly.\n",
    "    The decimal is standard choice for financial applications.\n",
    "    The arithmatic behavior of decimal is human friendly.\n",
    "\n",
    "  # drawbacks :\n",
    "\n",
    "    The decimal operations are significantly slower.\n",
    "    Use more memory.\n",
    "    Require to import decimal module.\n",
    "    Cannot represent irrational numbers."
   ]
  },
  {
   "cell_type": "markdown",
   "id": "444b3649-02b9-43bc-a5a2-e98fc55a0772",
   "metadata": {},
   "source": [
    "# 2. Decimal('1.200') and Decimal('1.2') are two objects to consider. In what sense are these the same object? Are these just two ways of representing        the exact same value, or do they correspond to different internal states?"
   ]
  },
  {
   "cell_type": "markdown",
   "id": "7a61349b-ca2f-44c2-964e-80b4bda15116",
   "metadata": {},
   "source": [
    "Numerically both are the same value.\n",
    "But in decimal they correspond to different internal states because they preserve different precision.\n",
    "Decimal('1.200') keeps 3 digit after decimal while Decimal ('1.2') keeps 1 digit after decimal Which is most important in financial calculation."
   ]
  },
  {
   "cell_type": "markdown",
   "id": "2510f63d-2f3c-4b94-b89d-cdc5a2b3c496",
   "metadata": {},
   "source": [
    "# 3. What happens if the equality of Decimal('1.200') and Decimal('1.2') is checked?"
   ]
  },
  {
   "cell_type": "markdown",
   "id": "ae8c2d9f-debb-4a98-bb85-d0bc2267f4e1",
   "metadata": {},
   "source": [
    "If equality of both decimal checked it returns True."
   ]
  },
  {
   "cell_type": "markdown",
   "id": "d9967caf-4596-4c72-bf17-9dd263d6692e",
   "metadata": {},
   "source": [
    "# 4. Why is it preferable to start a Decimal object with a string rather than a floating-point value?"
   ]
  },
  {
   "cell_type": "markdown",
   "id": "3622f08e-8946-42c1-8d47-8a905cab3f03",
   "metadata": {},
   "source": [
    "To avoid rounding errors it is preferable to start a Decimal object with a string rather than a floating-point value."
   ]
  },
  {
   "cell_type": "markdown",
   "id": "50a27b77-56d2-4a59-9cae-073b8b432976",
   "metadata": {},
   "source": [
    "# 5. In an arithmetic phrase, how simple is it to combine Decimal objects with integers?"
   ]
  },
  {
   "cell_type": "markdown",
   "id": "c703fea8-0944-4f04-a7ed-18828d63a5f0",
   "metadata": {},
   "source": [
    "In an arithmetic phrase, Python automatically convert integers in Decimal so operation proceeds smoothly without any error."
   ]
  },
  {
   "cell_type": "markdown",
   "id": "3876b16e-0e0c-4c96-b94b-50eb5e86fab0",
   "metadata": {},
   "source": [
    "# 6. Can Decimal objects and floating-point values be combined easily?"
   ]
  },
  {
   "cell_type": "markdown",
   "id": "a1b39bc0-f822-43b8-948e-7acb5e09e84f",
   "metadata": {},
   "source": [
    "No, Decimal objects and floating-point values can not be combined easily."
   ]
  },
  {
   "cell_type": "markdown",
   "id": "911162aa-e1ad-4447-8dec-0e5cf851656d",
   "metadata": {},
   "source": [
    "# 7. Using the Fraction class but not the Decimal class, give an example of a quantity that can be expressed with absolute precision."
   ]
  },
  {
   "cell_type": "code",
   "execution_count": 1,
   "id": "8cfacf3a-0b44-4e99-aaf9-7659467aa313",
   "metadata": {},
   "outputs": [
    {
     "name": "stdout",
     "output_type": "stream",
     "text": [
      "1/3\n",
      "0.3333333333333333\n",
      "1/5\n",
      "0.2\n",
      "2/7\n",
      "0.2857142857142857\n"
     ]
    }
   ],
   "source": [
    "from fractions import Fraction\n",
    "\n",
    "f = Fraction(1,3)\n",
    "print(f)\n",
    "print(float(f))\n",
    "\n",
    "f = Fraction(1,5)\n",
    "print(f)\n",
    "print(float(f))\n",
    "\n",
    "f = Fraction(2,7)\n",
    "print(f)\n",
    "print(float(f))"
   ]
  },
  {
   "cell_type": "markdown",
   "id": "463f48ba-907e-441e-bc22-13d7b5cbc6f5",
   "metadata": {},
   "source": [
    "# 8. Describe a quantity that can be accurately expressed by the Decimal or Fraction classes but not by a floating-point value."
   ]
  },
  {
   "cell_type": "markdown",
   "id": "52e835a8-fede-425a-a748-7b88b4019008",
   "metadata": {},
   "source": [
    "1/3, 1/10, 2/7, 2/3 etc are a quantity that can be accurately expressed by the Decimal or Fraction classes but not by a floating-point value."
   ]
  },
  {
   "cell_type": "code",
   "execution_count": 3,
   "id": "1fbbe79b-0178-4613-8981-ca428db746f1",
   "metadata": {},
   "outputs": [
    {
     "name": "stdout",
     "output_type": "stream",
     "text": [
      "1/3\n",
      "1/10\n",
      "2/7\n",
      "2/3\n",
      "0.3333333333\n",
      "0.1\n",
      "0.2857142857\n",
      "0.6666666667\n"
     ]
    }
   ],
   "source": [
    "# For fraction\n",
    "\n",
    "from fractions import Fraction\n",
    "\n",
    "f = Fraction(1, 3)\n",
    "print(f) \n",
    "\n",
    "f = Fraction(1,10)\n",
    "print(f)\n",
    "\n",
    "f = Fraction(2,7)\n",
    "print(f)\n",
    "\n",
    "f =Fraction(2,3)\n",
    "print(f)\n",
    "\n",
    "\n",
    "# For Decimal\n",
    "\n",
    "from decimal import Decimal, getcontext\n",
    "getcontext().prec = 10  # Set precision\n",
    "\n",
    "d = Decimal(1) / Decimal(3)\n",
    "print(d)  \n",
    "\n",
    "d = Decimal(1) / Decimal(10)\n",
    "print(d)  \n",
    "\n",
    "d = Decimal(2) / Decimal(7)\n",
    "print(d)  \n",
    "\n",
    "d = Decimal(2) / Decimal(3)\n",
    "print(d)  "
   ]
  },
  {
   "cell_type": "markdown",
   "id": "5e0f87f1-175a-4a51-b03a-40fe3946e13d",
   "metadata": {},
   "source": [
    "# 9.Consider the following two fraction objects: Fraction(1, 2) and Fraction(1, 2). (5, 10). Is the internal state of these two objects the same? Why do you think that is?"
   ]
  },
  {
   "cell_type": "markdown",
   "id": "ffef936c-f802-4b85-9e5f-9188c2660b57",
   "metadata": {},
   "source": [
    "Yes, the internal state of these two objects is the same because Python simplifies both to the lowest term."
   ]
  },
  {
   "cell_type": "code",
   "execution_count": 5,
   "id": "a1a5c78d-6dd4-45a4-a66c-98a2b4388ff5",
   "metadata": {},
   "outputs": [
    {
     "name": "stdout",
     "output_type": "stream",
     "text": [
      "True\n",
      "1\n",
      "2\n",
      "1\n",
      "2\n"
     ]
    }
   ],
   "source": [
    "from fractions import Fraction\n",
    "\n",
    "a = Fraction(1, 2)\n",
    "b = Fraction(5, 10)\n",
    "\n",
    "print(a == b)          \n",
    "print(a.numerator)    \n",
    "print(a.denominator)   \n",
    "print(b.numerator)     \n",
    "print(b.denominator)  \n"
   ]
  },
  {
   "cell_type": "markdown",
   "id": "22ff8c9a-d802-494b-84d6-32efccd4bc17",
   "metadata": {},
   "source": [
    "# 10. How do the Fraction class and the integer type (int) relate to each other? Containment or inheritance?"
   ]
  },
  {
   "cell_type": "markdown",
   "id": "5c858ee1-167f-4cc8-8b29-7874c94e643c",
   "metadata": {},
   "source": [
    "The Fraction class and the integer type are related by Containment.\n",
    "\n",
    "Fraction class contains two integers : 1) numerator 2) denominator. \n",
    "\n",
    "While integer is built-in type in Python that represent whole numbers.  "
   ]
  },
  {
   "cell_type": "code",
   "execution_count": null,
   "id": "93ea784b-cdf0-4024-9e98-0d67f53ef425",
   "metadata": {},
   "outputs": [],
   "source": []
  }
 ],
 "metadata": {
  "kernelspec": {
   "display_name": "Python [conda env:base] *",
   "language": "python",
   "name": "conda-base-py"
  },
  "language_info": {
   "codemirror_mode": {
    "name": "ipython",
    "version": 3
   },
   "file_extension": ".py",
   "mimetype": "text/x-python",
   "name": "python",
   "nbconvert_exporter": "python",
   "pygments_lexer": "ipython3",
   "version": "3.12.7"
  }
 },
 "nbformat": 4,
 "nbformat_minor": 5
}
