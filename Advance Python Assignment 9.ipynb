{
 "cells": [
  {
   "cell_type": "markdown",
   "id": "7fef297f-20bb-49da-99cd-8b6edd9d8dd7",
   "metadata": {},
   "source": [
    "# 1.In Python 3.X, what are the names and functions of string object types?"
   ]
  },
  {
   "cell_type": "markdown",
   "id": "30e06f49-f6ea-4aa2-a886-d289d67a4ef3",
   "metadata": {},
   "source": [
    "In Python 3.x the names and functions of string object types are as follow:\n",
    "\n",
    "1) str(Unicode Text Strings) : It is the default string type in Python 3.x.\n",
    "\n",
    "   It represents textual data internally stored as Unicode code points.\n",
    "\n",
    "   It can contain any character from any language including symbols and emojis.\n",
    "\n",
    "   It created using single quotes '....' or double quotes \".....\" .\n",
    "\n",
    "2) bytes(Binary string) : It must contain only ASCII characters(0-127) unless encoded otherwise.\n",
    "\n",
    "   It represents sequence of raw 8-bit values (binary data) not Unicode.\n",
    "\n",
    "   It useful for handling binary data like files, networks, encryption, etc.\n",
    "   \n",
    "   It created using b prefix like b'Hey'. \n",
    "\n",
    "3) bytearry(Mutable binary string) :\n",
    "\n",
    "   It is similar to bytes but mutable.\n",
    "\n",
    "   It created using bytearry() constructor."
   ]
  },
  {
   "cell_type": "markdown",
   "id": "4a14fec3-3afe-4ed6-a099-3677171c4bf4",
   "metadata": {},
   "source": [
    "# 2.How do the string forms in Python 3.X vary in terms of operations?"
   ]
  },
  {
   "cell_type": "markdown",
   "id": "a6412df2-417c-4742-8540-298bd15e0162",
   "metadata": {},
   "source": [
    "The string forms in Python 3.x vary in terms of operations as follow :\n",
    "\n",
    "1) str :\n",
    "\n",
    "   It stores human readable text.\n",
    "\n",
    "   Each element is Unocode character.\n",
    "       \n",
    "   It is immutable.\n",
    "       \n",
    "   It supports manipulation, formatting, indexing, comparison.\n",
    "\n",
    "2) bytes :\n",
    "\n",
    "   Each element is an integer(0-255) not a character.\n",
    "       \n",
    "   Used for binary processing.\n",
    "       \n",
    "   It doesn't support str method unless decode to str.\n",
    "\n",
    "   It is immutable.\n",
    "\n",
    "3) bytearray :\n",
    "\n",
    "   It is same as byte but mutable.\n",
    "       \n",
    "   We can modify its contents directly.\n",
    "   "
   ]
  },
  {
   "cell_type": "markdown",
   "id": "70a1c47b-fa8f-4d36-b403-fe67907011fa",
   "metadata": {},
   "source": [
    "# 3. In 3.X, how do you put non-ASCII Unicode characters in a string?"
   ]
  },
  {
   "cell_type": "markdown",
   "id": "7ba4c78a-d22c-4ee7-bd58-a623e2dae3a4",
   "metadata": {},
   "source": [
    "In 3.X to put non-ASCII Unicode characters in a string generally we don't need any special prefixes.\n",
    "\n",
    "The primary way to do it is as below :\n",
    "\n",
    "1) Directly write non-ASCII character in string.\n",
    "2) Using Unicode Escape Sequeances we can insert character.\n",
    "\n",
    "   \\u for 4 digit hex (u+0000 to u+FFFF)\n",
    "\n",
    "    \\U for 8 digit hex (U+00000000 to U+10FFFF)\n",
    "3) Using chr() and concatenation."
   ]
  },
  {
   "cell_type": "markdown",
   "id": "358bbf90-49ae-4a7e-8df7-9c2ff66fa7b7",
   "metadata": {},
   "source": [
    "# 4. In Python 3.X, what are the key differences between text-mode and binary-mode files?"
   ]
  },
  {
   "cell_type": "markdown",
   "id": "4791f629-5462-47df-bbe6-8f77f253c158",
   "metadata": {},
   "source": [
    "In Python 3.X the key differences between text-mode and binary-mode files are as follow :\n",
    "\n",
    "1) Data Type Handled :\n",
    "\n",
    "   Text-mode is for human readable content like .txt, .csv, .html, .json etc.\n",
    "    \n",
    "   While binary-mode is for non-textual data like images(.jpg, .png), audio files(.mp3, .wav), video files(.mp4).\n",
    "\n",
    "2) Encoding/Decoding :\n",
    "\n",
    "   For text-mode : \n",
    "\n",
    "       write: automatically encodes it into bytes.\n",
    "           \n",
    "       read : automatically decodes bytes into str.\n",
    "           \n",
    "\n",
    "   For binary-mode no encoding/decoding needed.Data is read and written as raw bytes.\n",
    "       \n",
    "3) Opening Mode :\n",
    "       \n",
    "   In text-mode file opened using read('r), write('w'), append('a), read/write('r+'), etc.\n",
    "       \n",
    "   In binary-mode it require 'b'character in the mode string like 'rb', 'wb', 'ab', 'rb+', etc.\n",
    "       \n",
    "4) Line Ending Handling :\n",
    "       \n",
    "   For text-mode Python automatically converts line endings.\n",
    "       \n",
    "   For binary-mode no automatic conversion needed. Python read and writes bytes exactly as they are in the file."
   ]
  },
  {
   "cell_type": "markdown",
   "id": "10f85813-a466-4618-9ef6-c8a8594c5b26",
   "metadata": {},
   "source": [
    "# 5.How can you interpret a Unicode text file containing text encoded in a different encoding than your platform's default?"
   ]
  },
  {
   "cell_type": "markdown",
   "id": "a2a00b02-1810-40cf-b375-bd8aa0db9082",
   "metadata": {},
   "source": [
    "To interpret a Unicode text file containing text encoded in a different encoding than platform's default always specify the encoding in open(). \n",
    "\n",
    "Ex :\n",
    "\n",
    "with open(\"filename.txt\", mode=\"r\", encoding=\"utf-16\") as f:\n",
    "    \n",
    "         content = f.read()\n",
    "    \n",
    "         print(content)\n"
   ]
  },
  {
   "cell_type": "markdown",
   "id": "e4bbb421-3319-4903-983b-e68807f6fbb5",
   "metadata": {},
   "source": [
    "# 6. What is the best way to make a Unicode text file in a particular encoding format?"
   ]
  },
  {
   "cell_type": "markdown",
   "id": "a039c050-0798-4b29-804f-55901ecf3bde",
   "metadata": {},
   "source": [
    "Using the built-in open() function with the encoding parameter is the best way to make a Unicode text file in a particular encoding format.\n",
    "    \n",
    "syntax : \n",
    "\n",
    "with open(\"filename.txt\", mode = \"w\", encoding = \"utf-16\") as f: \n",
    "\n",
    "     f.write(\"content\")"
   ]
  },
  {
   "cell_type": "markdown",
   "id": "6b5cfe77-94b0-4058-ba15-8d29725c9628",
   "metadata": {},
   "source": [
    "# 7.What qualifies ASCII text as a form of Unicode text?"
   ]
  },
  {
   "cell_type": "markdown",
   "id": "61b8db51-8be2-45f9-bb67-68149f59c0b6",
   "metadata": {},
   "source": [
    "The first 128 characters of the Unicode text are identical to characters define in ASCII standard this qualifies ASCII text as aform of Unicode text."
   ]
  },
  {
   "cell_type": "markdown",
   "id": "48fc5691-beb3-40f5-9dab-b888f542b5b9",
   "metadata": {},
   "source": [
    "# 8.How much of an effect does the change in string types in Python 3.X have on your code?"
   ]
  },
  {
   "cell_type": "markdown",
   "id": "236ef57f-10fb-4d9c-a4cc-cef921464ec8",
   "metadata": {},
   "source": [
    "The change in string types in Python 3.X has following effect on code  \n",
    "\n",
    "1) Now all strings are Unicode.\n",
    "   \n",
    "2) Text and binary data are separated, we can mix them using encode and decode."
   ]
  }
 ],
 "metadata": {
  "kernelspec": {
   "display_name": "Python [conda env:base] *",
   "language": "python",
   "name": "conda-base-py"
  },
  "language_info": {
   "codemirror_mode": {
    "name": "ipython",
    "version": 3
   },
   "file_extension": ".py",
   "mimetype": "text/x-python",
   "name": "python",
   "nbconvert_exporter": "python",
   "pygments_lexer": "ipython3",
   "version": "3.12.7"
  }
 },
 "nbformat": 4,
 "nbformat_minor": 5
}
