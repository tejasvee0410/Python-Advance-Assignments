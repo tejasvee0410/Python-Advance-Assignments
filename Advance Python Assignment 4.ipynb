{
 "cells": [
  {
   "cell_type": "markdown",
   "id": "bb996ee1-444f-433b-9ef8-16a4957c5ea5",
   "metadata": {},
   "source": [
    "# 1. Which two operator overloading methods can you use in your classes to support iteration?"
   ]
  },
  {
   "cell_type": "markdown",
   "id": "16fb4a10-b03e-4a3f-9635-6f6d7704ab28",
   "metadata": {},
   "source": [
    "This two operator overloading methods we can use in classes to support iteration :\n",
    "\n",
    "1) _iter_(self)\n",
    "2) _next_(self)\n"
   ]
  },
  {
   "cell_type": "markdown",
   "id": "f3aa1511-2655-4962-a5f1-b00b4acc6887",
   "metadata": {},
   "source": [
    "# 2. In what contexts do the two operator overloading methods manage printing?"
   ]
  },
  {
   "cell_type": "markdown",
   "id": "a10b44ae-7edd-40be-9321-9ebe22ae97e1",
   "metadata": {},
   "source": [
    "The two operator overloading methods manage printing in contexts of :\n",
    "1) __str__(self)\n",
    "2) __repr__(self)"
   ]
  },
  {
   "cell_type": "markdown",
   "id": "555dcc6f-1ba4-4705-9773-872168f40e83",
   "metadata": {},
   "source": [
    "# 3.In a class, how do you intercept slice operations?"
   ]
  },
  {
   "cell_type": "markdown",
   "id": "064e14fe-b0b2-440a-ae45-248a63180ac8",
   "metadata": {},
   "source": [
    "In a class we intercept slice operations by overloading __getitem__(self,key)."
   ]
  },
  {
   "cell_type": "markdown",
   "id": "e8908139-3c52-4bdc-8334-4cd09be660cf",
   "metadata": {},
   "source": [
    "# 4.In a class, how do you capture in-place addition?"
   ]
  },
  {
   "cell_type": "markdown",
   "id": "46a79734-3caf-4d93-8aa3-91cf4810d031",
   "metadata": {},
   "source": [
    "In a class to capture in-place addition we use __iadd__(self,other) special method."
   ]
  },
  {
   "cell_type": "markdown",
   "id": "9b19a7a4-db68-4d29-a4f0-ddc57c83a991",
   "metadata": {},
   "source": [
    "# 5.When is it appropriate to use operator overloading?"
   ]
  },
  {
   "cell_type": "markdown",
   "id": "c2b833b8-0ad7-4cdf-b544-4a81d965a352",
   "metadata": {},
   "source": [
    "It is appropriate to use operator overloading when objects behave like built-in type and enhance readability of code.\n",
    "Situation like :\n",
    "1) class represent mathematical objects the overloading makes them behave like number.\n",
    "2) when we want objects behave like collections.\n",
    "3) when we want better string representation.\n",
    "4) when we want in-place modification.\n",
    "5) when we are writing testable,readable code."
   ]
  },
  {
   "cell_type": "code",
   "execution_count": null,
   "id": "dd6b7cb6-d6d7-4077-8319-4125f458db8b",
   "metadata": {},
   "outputs": [],
   "source": []
  }
 ],
 "metadata": {
  "kernelspec": {
   "display_name": "Python [conda env:base] *",
   "language": "python",
   "name": "conda-base-py"
  },
  "language_info": {
   "codemirror_mode": {
    "name": "ipython",
    "version": 3
   },
   "file_extension": ".py",
   "mimetype": "text/x-python",
   "name": "python",
   "nbconvert_exporter": "python",
   "pygments_lexer": "ipython3",
   "version": "3.12.7"
  }
 },
 "nbformat": 4,
 "nbformat_minor": 5
}
