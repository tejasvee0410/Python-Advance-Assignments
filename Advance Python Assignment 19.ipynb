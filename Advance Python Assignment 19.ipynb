{
 "cells": [
  {
   "cell_type": "markdown",
   "id": "eec7e92e-3ea6-4ac7-8c53-ace2c6462863",
   "metadata": {},
   "source": [
    "# 1. Define the relationship between a class and its instances. Is it a one-to-one or a one-to-many partnership, for example?"
   ]
  },
  {
   "cell_type": "markdown",
   "id": "7bd686de-b4d2-4b26-8558-ad5774005e63",
   "metadata": {},
   "source": [
    "The relationship between a class and its instances is one-to-many partnership."
   ]
  },
  {
   "cell_type": "code",
   "execution_count": 3,
   "id": "b5ec5e34-75d8-4bbb-9345-42cb55e9703f",
   "metadata": {},
   "outputs": [],
   "source": [
    "class Car:           # class \n",
    "    def __init__(self, brand):\n",
    "        self.brand = brand\n",
    "\n",
    "# instances\n",
    "car1 = Car(\"Toyota\")\n",
    "car2 = Car(\"Honda\")\n",
    "car3 = Car(\"Tesla\")\n"
   ]
  },
  {
   "cell_type": "markdown",
   "id": "6d22e5b7-4f53-4463-8fb4-255b45e9b643",
   "metadata": {},
   "source": [
    "# 2. What kind of data is held only in an instance?"
   ]
  },
  {
   "cell_type": "markdown",
   "id": "b8479f27-f13c-48da-aa73-1abb7e5e39f7",
   "metadata": {},
   "source": [
    "Data that is unique to each object (instance variable) kind of data is held only in an instance."
   ]
  },
  {
   "cell_type": "markdown",
   "id": "6e75e7e7-2b9a-444f-bcd4-aa97ec4f37c9",
   "metadata": {},
   "source": [
    "# 3. What kind of knowledge is stored in a class?"
   ]
  },
  {
   "cell_type": "markdown",
   "id": "199c4c0b-9d95-4542-9bad-6d314527cda4",
   "metadata": {},
   "source": [
    "A class store general knowledge like shared data, structure, method, behaviour that define how its instance should be behave and look."
   ]
  },
  {
   "cell_type": "markdown",
   "id": "fabb4718-b9bf-4b92-8d02-fe78bf89d6ec",
   "metadata": {},
   "source": [
    "# 4. What exactly is a method, and how is it different from a regular function?"
   ]
  },
  {
   "cell_type": "markdown",
   "id": "8320dd34-a35b-4d89-9778-6fb05bb53320",
   "metadata": {},
   "source": [
    "A method is a function that defined inside the class and is designed to operate on a instances of that class while a regular function stand alone and does not operate on specific object unless passed manually."
   ]
  },
  {
   "cell_type": "markdown",
   "id": "fddea5e4-cb20-4305-9253-1b1b5397c6d0",
   "metadata": {},
   "source": [
    "# 5. Is inheritance supported in Python, and if so, what is the syntax?"
   ]
  },
  {
   "cell_type": "markdown",
   "id": "abd09a6b-be8c-4f5a-91bb-878010ead7df",
   "metadata": {},
   "source": [
    "Yes, inheritance supported in Python and it's core feature of OOPS.\n",
    "\n",
    "The syntax is : class ChildClass(ParentClass):\n",
    "                   "
   ]
  },
  {
   "cell_type": "markdown",
   "id": "255fd7c6-3f5d-4335-bba0-7345b86aaae8",
   "metadata": {},
   "source": [
    "# 6. How much encapsulation (making instance or class variables private) does Python support?"
   ]
  },
  {
   "cell_type": "markdown",
   "id": "27185df1-6d95-4a4b-80a9-e7e85751a4ac",
   "metadata": {},
   "source": [
    "Python support encapsulation through naming conventions and name mangling but doesn't enforce strict privacy."
   ]
  },
  {
   "cell_type": "markdown",
   "id": "5170419c-87da-4657-8886-de3f6a7ccb09",
   "metadata": {},
   "source": [
    "# 7. How do you distinguish between a class variable and an instance variable?"
   ]
  },
  {
   "cell_type": "markdown",
   "id": "3790e5ad-892c-4906-ad13-aaef93904004",
   "metadata": {},
   "source": [
    "A class variable:\n",
    "    \n",
    " It shared by all instance of that class.\n",
    " It is defined inside a class but outside any method.\n",
    " It belongs to class itself.\n",
    "\n",
    "An instance variable :\n",
    "\n",
    "It is unique to each instance.\n",
    "It is defined inside method using self.\n",
    "It belongs to specific object."
   ]
  },
  {
   "cell_type": "markdown",
   "id": "862b3399-ac64-40aa-b8fc-7e4562accbaa",
   "metadata": {},
   "source": [
    "# 8. When, if ever, can self be included in a class's method definitions?"
   ]
  },
  {
   "cell_type": "markdown",
   "id": "5223f77e-e122-43a6-908f-360bd3065347",
   "metadata": {},
   "source": [
    "self can be included in a class’s method definitions when defining instance methods.\n",
    "It must be the first parameter and refers to the current object (instance) of the class."
   ]
  },
  {
   "cell_type": "markdown",
   "id": "d4b05afe-fd64-4141-9e0a-3a5255212c22",
   "metadata": {},
   "source": [
    "# 9. What is the difference between the _ _add_ _ and the _ _radd_ _ methods?"
   ]
  },
  {
   "cell_type": "markdown",
   "id": "757e838f-e276-460d-b2cc-f526825c22c3",
   "metadata": {},
   "source": [
    "_add_ called when the object is on left operand.\n",
    "Handles expression : a + b\n",
    "\n",
    "_radd_ method called when object is on right operand and left operand doesn't know how to handle.\n",
    "Handles expression : b + a"
   ]
  },
  {
   "cell_type": "markdown",
   "id": "3ad2ef27-9fd0-47ae-83e9-e4a58e1bc629",
   "metadata": {},
   "source": [
    "# 10. When is it necessary to use a reflection method? When do you not need it, even though you support the operation in question?"
   ]
  },
  {
   "cell_type": "markdown",
   "id": "342a17d2-7d25-45f1-9a24-9e632559ebeb",
   "metadata": {},
   "source": [
    "When class need to support mixed type operations and left operand is not a instance of a class.\n",
    "The left operand doesn't know how to handle object and _add_ method returns NotImplemented."
   ]
  },
  {
   "cell_type": "markdown",
   "id": "150e3b03-34cf-4a0f-b8db-cd1baa0d8432",
   "metadata": {},
   "source": [
    "# 11. What is the _ _iadd_ _ method called?"
   ]
  },
  {
   "cell_type": "markdown",
   "id": "ccbbc2e7-114c-4670-b39a-45ec18d2c8b2",
   "metadata": {},
   "source": [
    "The _iadd_ method is called for the in-place addition operation using += operator."
   ]
  },
  {
   "cell_type": "markdown",
   "id": "38cf7ed9-1859-4ad5-984a-c225d07c6ccb",
   "metadata": {},
   "source": [
    "# 12. Is the _ _init_ _ method inherited by subclasses? What do you do if you need to customize its behavior within a subclass?"
   ]
  },
  {
   "cell_type": "markdown",
   "id": "7b46e1e4-b534-418f-9a3f-83e25af8bcb4",
   "metadata": {},
   "source": [
    "Yes, the __init__ method inherited by subclasses.If we need to customize its behavior within a subclass we can override it."
   ]
  },
  {
   "cell_type": "code",
   "execution_count": null,
   "id": "12dfb13f-2840-49d7-81d2-e4078fa0eb73",
   "metadata": {},
   "outputs": [],
   "source": []
  }
 ],
 "metadata": {
  "kernelspec": {
   "display_name": "Python [conda env:base] *",
   "language": "python",
   "name": "conda-base-py"
  },
  "language_info": {
   "codemirror_mode": {
    "name": "ipython",
    "version": 3
   },
   "file_extension": ".py",
   "mimetype": "text/x-python",
   "name": "python",
   "nbconvert_exporter": "python",
   "pygments_lexer": "ipython3",
   "version": "3.12.7"
  }
 },
 "nbformat": 4,
 "nbformat_minor": 5
}
