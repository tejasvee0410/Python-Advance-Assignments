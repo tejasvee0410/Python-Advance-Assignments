{
 "cells": [
  {
   "cell_type": "markdown",
   "id": "85cf8204-dc49-4f1b-8966-e128379413cf",
   "metadata": {},
   "source": [
    "# 1. If you have any, what are your choices for increasing the comparison between different figures on the same graph?"
   ]
  },
  {
   "cell_type": "markdown",
   "id": "571e00e5-921c-4283-b738-66bdc6384a97",
   "metadata": {},
   "source": [
    "Choices for increasing the comparison between different figures on the same graph are :\n",
    "\n",
    "1) Use different color\n",
    "2) Use different line style\n",
    "3) Use markers \n",
    "4) Add data lables\n",
    "5) Use Gridlines and Titles\n",
    "6) Use subplots\n",
    "7) Higlight key area "
   ]
  },
  {
   "cell_type": "markdown",
   "id": "b758b5d7-fa38-45f2-801e-a216ec14791d",
   "metadata": {},
   "source": [
    "# 2. Can you explain the benefit of compound interest over a higher rate of interest that does not compound after reading this chapter?"
   ]
  },
  {
   "cell_type": "markdown",
   "id": "35f48bc0-a6a8-4024-b7f9-2c577c1e2f0c",
   "metadata": {},
   "source": [
    "In compound interest, interest is calculated on principal amount plus any previously earned interest.This leads exponential growth over a time.The longer the time the greater the effect. \n",
    "\n",
    "In higher rate of simple interest, interest is calculated only on principal amount.Even at higher rate growth is linear. "
   ]
  },
  {
   "cell_type": "markdown",
   "id": "8e5c962f-1f92-4e69-8195-e0d9b4d25703",
   "metadata": {},
   "source": [
    "# 3. What is a histogram, exactly? Name a numpy method for creating such a graph."
   ]
  },
  {
   "cell_type": "markdown",
   "id": "ad038d4d-8da6-4fa2-87c5-2ddca96a49ba",
   "metadata": {},
   "source": [
    "A histrogram is type of bar graph that represent the distribution of numeric data by dividing the data into intervals and showing how many data point fall into each interval.\n",
    "\n",
    "A numpy method for creating sucha a graph is : numpy.histrogram()."
   ]
  },
  {
   "cell_type": "markdown",
   "id": "6534825f-68ba-4d88-812f-00f2ea25f999",
   "metadata": {},
   "source": [
    "# 4. If necessary, how do you change the aspect ratios between the X and Y axes?"
   ]
  },
  {
   "cell_type": "markdown",
   "id": "58e3ea97-b92f-4caa-9f0f-10d1eb026072",
   "metadata": {},
   "source": [
    "To change the aspect ratios between the X and Y axes in a plot using matplotlib, we can use setaspect()method or  plt.axis('scaled') or plt.axis('equal') function."
   ]
  },
  {
   "cell_type": "markdown",
   "id": "7dca586c-583e-469d-a4a5-c5e325c9c31a",
   "metadata": {},
   "source": [
    "# 5. Compare and contrast the three types of array multiplication between two numpy arrays: dot product, outer product, and regular multiplication of two numpy arrays."
   ]
  },
  {
   "cell_type": "markdown",
   "id": "9a083e4a-acc0-40d5-8ebc-3cc5962bba99",
   "metadata": {},
   "source": [
    "# dot product :\n",
    "\n",
    "operation must be inner product.\n",
    "For 1D both arrays must have same length resulting in scalar.\n",
    "For 2D matrix multiplication rules apply resulting in matrix.\n",
    "\n",
    "# outer product :\n",
    "\n",
    "Every element in a first array is multiplied by every element in a second array.\n",
    "Both array can be 1D which result in 2D array(matrix) with shape.\n",
    "\n",
    "# regular multiplication:\n",
    "\n",
    "Performs element wise multiplication is done.\n",
    "Arrays must have the same shape or be brodcastable to the same shape.\n",
    "Each element in a one array is multiplied by the corresponding element in the other."
   ]
  },
  {
   "cell_type": "markdown",
   "id": "e90c1589-c194-4a58-a289-1f4d48994a87",
   "metadata": {},
   "source": [
    "# 6. Before you buy a home, which numpy function will you use to measure your monthly mortgage payment?"
   ]
  },
  {
   "cell_type": "markdown",
   "id": "0d171cc7-65df-4f1c-acc0-82745952c4d8",
   "metadata": {},
   "source": [
    "We can use numpy financial function np.pmt()."
   ]
  },
  {
   "cell_type": "markdown",
   "id": "86b41ecc-f407-4c5f-a4fc-70f2637a3f9a",
   "metadata": {},
   "source": [
    "# 7. Can string data be stored in numpy arrays? If so, list at least one restriction that applies to this data."
   ]
  },
  {
   "cell_type": "markdown",
   "id": "164329ba-2e5b-4f11-a07e-5a2048d7d70e",
   "metadata": {},
   "source": [
    "Yes, string data be stored in numpy arrays.The restriction is that all strings in the array must be of fixed length."
   ]
  },
  {
   "cell_type": "code",
   "execution_count": null,
   "id": "26787838-1725-480a-9533-700a4ed3b972",
   "metadata": {},
   "outputs": [],
   "source": []
  }
 ],
 "metadata": {
  "kernelspec": {
   "display_name": "Python [conda env:base] *",
   "language": "python",
   "name": "conda-base-py"
  },
  "language_info": {
   "codemirror_mode": {
    "name": "ipython",
    "version": 3
   },
   "file_extension": ".py",
   "mimetype": "text/x-python",
   "name": "python",
   "nbconvert_exporter": "python",
   "pygments_lexer": "ipython3",
   "version": "3.12.7"
  }
 },
 "nbformat": 4,
 "nbformat_minor": 5
}
