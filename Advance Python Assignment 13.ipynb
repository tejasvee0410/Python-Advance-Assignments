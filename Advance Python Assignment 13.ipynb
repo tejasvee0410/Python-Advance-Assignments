{
 "cells": [
  {
   "cell_type": "markdown",
   "id": "746fa4b1-9e50-44e7-be07-b84145c6108e",
   "metadata": {},
   "source": [
    "# 1. Can you create a programme or function that employs both positive and negative indexing? Is there any repercussion if you do so?"
   ]
  },
  {
   "cell_type": "code",
   "execution_count": 8,
   "id": "74d90444-8d9a-4cb0-a698-0f629a0a8e7e",
   "metadata": {},
   "outputs": [
    {
     "name": "stdout",
     "output_type": "stream",
     "text": [
      "result1 : Pn\n"
     ]
    },
    {
     "ename": "IndexError",
     "evalue": "string index out of range",
     "output_type": "error",
     "traceback": [
      "\u001b[1;31m---------------------------------------------------------------------------\u001b[0m",
      "\u001b[1;31mIndexError\u001b[0m                                Traceback (most recent call last)",
      "Cell \u001b[1;32mIn[8], line 9\u001b[0m\n\u001b[0;32m      6\u001b[0m result1 \u001b[38;5;241m=\u001b[39m extract_string(\u001b[38;5;124m\"\u001b[39m\u001b[38;5;124mPython\u001b[39m\u001b[38;5;124m\"\u001b[39m)\n\u001b[0;32m      7\u001b[0m \u001b[38;5;28mprint\u001b[39m(\u001b[38;5;124m\"\u001b[39m\u001b[38;5;124mresult1 :\u001b[39m\u001b[38;5;124m\"\u001b[39m, result)\n\u001b[1;32m----> 9\u001b[0m result2 \u001b[38;5;241m=\u001b[39m extract_string(\u001b[38;5;124m\"\u001b[39m\u001b[38;5;124m\"\u001b[39m)\n\u001b[0;32m     10\u001b[0m \u001b[38;5;28mprint\u001b[39m(\u001b[38;5;124m\"\u001b[39m\u001b[38;5;124mresult2 :\u001b[39m\u001b[38;5;124m\"\u001b[39m, result)\n",
      "Cell \u001b[1;32mIn[8], line 2\u001b[0m, in \u001b[0;36mextract_string\u001b[1;34m(s)\u001b[0m\n\u001b[0;32m      1\u001b[0m \u001b[38;5;28;01mdef\u001b[39;00m \u001b[38;5;21mextract_string\u001b[39m(s) :\n\u001b[1;32m----> 2\u001b[0m     first \u001b[38;5;241m=\u001b[39m s[\u001b[38;5;241m0\u001b[39m]\n\u001b[0;32m      3\u001b[0m     last \u001b[38;5;241m=\u001b[39m s[\u001b[38;5;241m-\u001b[39m\u001b[38;5;241m1\u001b[39m]\n\u001b[0;32m      4\u001b[0m     \u001b[38;5;28;01mreturn\u001b[39;00m first \u001b[38;5;241m+\u001b[39m last\n",
      "\u001b[1;31mIndexError\u001b[0m: string index out of range"
     ]
    }
   ],
   "source": [
    "def extract_string(s) :\n",
    "    first = s[0]\n",
    "    last = s[-1]\n",
    "    return first + last\n",
    "\n",
    "result1 = extract_string(\"Python\")\n",
    "print(\"result1 :\", result)\n",
    "\n",
    "result2 = extract_string(\"\")\n",
    "print(\"result2 :\", result)"
   ]
  },
  {
   "cell_type": "markdown",
   "id": "76cdca30-61a1-42ff-b590-9276ff29b804",
   "metadata": {},
   "source": [
    "From above we can say if the string is not empty then there is no repercussion but if string is empty it will raise an Indexerror."
   ]
  },
  {
   "cell_type": "markdown",
   "id": "d5c4b77c-6af0-4985-8e54-1726a977e038",
   "metadata": {},
   "source": [
    "# 2. What is the most effective way of starting with 1,000 elements in a Python list? Assume that all elements should be set to the same value."
   ]
  },
  {
   "cell_type": "markdown",
   "id": "0feb451b-228b-48d1-bb7f-2c7c9f0aa6ac",
   "metadata": {},
   "source": [
    "The most effective way to starting with 1000 elements in Python list is using multiplication operator(*)."
   ]
  },
  {
   "cell_type": "code",
   "execution_count": 17,
   "id": "232f8e54-be2b-46c6-a268-ff9bca65f7c5",
   "metadata": {},
   "outputs": [
    {
     "name": "stdout",
     "output_type": "stream",
     "text": [
      "1000\n",
      "[8, 8, 8, 8, 8]\n"
     ]
    }
   ],
   "source": [
    "# Creates a list with 1,000 elements, all set to 8\n",
    "my_list = [8] * 1000\n",
    "\n",
    "print(len(my_list))     \n",
    "print(my_list[:5])      "
   ]
  },
  {
   "cell_type": "markdown",
   "id": "2078e758-3298-4527-8339-06910c2b07f2",
   "metadata": {},
   "source": [
    "# 3. How do you slice a list to get any other part while missing the rest? (For example, suppose you want to make a new list with the elements first, third, fifth, seventh, and so on.)"
   ]
  },
  {
   "cell_type": "markdown",
   "id": "8fb37008-3ed1-483b-8e9e-fb0cdd1655c8",
   "metadata": {},
   "source": [
    "Using l[::2] we can slice a list to get any other part while missing the rest."
   ]
  },
  {
   "cell_type": "code",
   "execution_count": 31,
   "id": "af4e3e69-1181-4758-8933-46b5e0c2390e",
   "metadata": {},
   "outputs": [
    {
     "name": "stdout",
     "output_type": "stream",
     "text": [
      "[1, 3, 5, 7, 9]\n"
     ]
    }
   ],
   "source": [
    "l = [1,2,3,4,5,6,7,8,9,10]\n",
    "l1 = l[::2]\n",
    "print(l1)"
   ]
  },
  {
   "cell_type": "markdown",
   "id": "e3631f3c-5d54-4103-ac72-df3025369318",
   "metadata": {},
   "source": [
    "# 4. Explain the distinctions between indexing and slicing."
   ]
  },
  {
   "cell_type": "markdown",
   "id": "fa3feae4-4d11-4f39-8c8c-2324376d33aa",
   "metadata": {},
   "source": [
    "The distintions between indexing and slicing is that in indexing we get one item while in slicing we get a range of items."
   ]
  },
  {
   "cell_type": "code",
   "execution_count": 29,
   "id": "802bd215-0a1c-4156-9ecc-2cd74867d9df",
   "metadata": {},
   "outputs": [
    {
     "name": "stdout",
     "output_type": "stream",
     "text": [
      "3\n"
     ]
    }
   ],
   "source": [
    "# For indexing \n",
    "l = [1,2,3,4,5,6,7,8,9,10]\n",
    "l1 = l[2]\n",
    "print(l1)"
   ]
  },
  {
   "cell_type": "code",
   "execution_count": 33,
   "id": "80e912fa-85ab-4903-8c3e-4f518b9016c0",
   "metadata": {},
   "outputs": [
    {
     "name": "stdout",
     "output_type": "stream",
     "text": [
      "[1, 3, 5, 7, 9]\n"
     ]
    }
   ],
   "source": [
    "# For slicing\n",
    "l = [1,2,3,4,5,6,7,8,9,10]\n",
    "l1 = l [::2]\n",
    "print(l1)"
   ]
  },
  {
   "cell_type": "markdown",
   "id": "1ba1a1c1-cbf3-4569-b7cb-0880b2965663",
   "metadata": {},
   "source": [
    "# 5. What happens if one of the slicing expression's indexes is out of range?"
   ]
  },
  {
   "cell_type": "markdown",
   "id": "aafe2a8c-aa03-4dcf-a5a2-35948a4b58b9",
   "metadata": {},
   "source": [
    "If the slicing expression's indexes is out of range it the portion of sequence that exist."
   ]
  },
  {
   "cell_type": "code",
   "execution_count": 41,
   "id": "8e6d7bc2-8075-44fe-a92c-b7cbfb355fa1",
   "metadata": {},
   "outputs": [
    {
     "name": "stdout",
     "output_type": "stream",
     "text": [
      "py family\n"
     ]
    }
   ],
   "source": [
    "s = \"Happy family\"\n",
    "print(s[3:50])"
   ]
  },
  {
   "cell_type": "markdown",
   "id": "f1dc5e45-21c0-48cb-8650-33ea29a491c7",
   "metadata": {},
   "source": [
    "# 6. If you pass a list to a function, and if you want the function to be able to change the values of the list—so that the list is different after the function returns—what action should you avoid?"
   ]
  },
  {
   "cell_type": "markdown",
   "id": "b0dd7e95-d908-49da-a279-2fd93ca9d1a6",
   "metadata": {},
   "source": [
    "Avoid reassigning the list name inside the function."
   ]
  },
  {
   "cell_type": "markdown",
   "id": "c0c7759b-2196-4cd1-83ec-0cd8cad60138",
   "metadata": {},
   "source": [
    "# 7. What is the concept of an unbalanced matrix?"
   ]
  },
  {
   "cell_type": "markdown",
   "id": "f8f67dc2-ac3c-493c-94ce-5671a72acc21",
   "metadata": {},
   "source": [
    "The concept of an unbalanced matrix is that rows and columns do not have same number of elements means rows have unequal length."
   ]
  },
  {
   "cell_type": "markdown",
   "id": "174d9870-c552-4a60-ac4f-6327adc93dd1",
   "metadata": {},
   "source": [
    "# 8. Why is it necessary to use either list comprehension or a loop to create arbitrarily large matrices?"
   ]
  },
  {
   "cell_type": "markdown",
   "id": "07eee1f0-91df-4e5f-87d5-1ede7e0764c4",
   "metadata": {},
   "source": [
    "we need list comprehensions or loops to create arbitrarily large matrices because they are flexible, scalable, and safe from shared reference issues."
   ]
  },
  {
   "cell_type": "code",
   "execution_count": null,
   "id": "5308bee4-aecb-46d4-97a1-d6b67bc686c0",
   "metadata": {},
   "outputs": [],
   "source": []
  }
 ],
 "metadata": {
  "kernelspec": {
   "display_name": "Python [conda env:base] *",
   "language": "python",
   "name": "conda-base-py"
  },
  "language_info": {
   "codemirror_mode": {
    "name": "ipython",
    "version": 3
   },
   "file_extension": ".py",
   "mimetype": "text/x-python",
   "name": "python",
   "nbconvert_exporter": "python",
   "pygments_lexer": "ipython3",
   "version": "3.12.7"
  }
 },
 "nbformat": 4,
 "nbformat_minor": 5
}
