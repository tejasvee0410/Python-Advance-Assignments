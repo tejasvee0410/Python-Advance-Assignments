{
 "cells": [
  {
   "cell_type": "markdown",
   "id": "c762cceb-0a4e-46fc-975a-d5462591735c",
   "metadata": {},
   "source": [
    "# 1.Does assigning a value to a string's indexed character violate Python's string immutability?"
   ]
  },
  {
   "cell_type": "markdown",
   "id": "a6f2c94d-eb7b-4aac-a751-841f1f29126a",
   "metadata": {},
   "source": [
    "Yes, assigning a value to a string's indexed character violate Python's string immutability."
   ]
  },
  {
   "cell_type": "markdown",
   "id": "0f5b4347-9a7a-4146-90e1-b2901df846d8",
   "metadata": {},
   "source": [
    "# 2.Does using the += operator to concatenate strings violate Python&#39;s string immutability? Why or why not?"
   ]
  },
  {
   "cell_type": "markdown",
   "id": "e6978d31-2bcd-49f3-bc95-936c0dfdbd1c",
   "metadata": {},
   "source": [
    "No, using the += operator to concatenate strings doesn't violate Python's string immutability.\n",
    "    \n",
    "Because it creates a new string."
   ]
  },
  {
   "cell_type": "markdown",
   "id": "2d0a64e6-af96-4fb3-a89a-8de674af287f",
   "metadata": {},
   "source": [
    "# 3. In Python, how many different ways are there to index a character?"
   ]
  },
  {
   "cell_type": "markdown",
   "id": "db503433-5e00-44ee-906d-b3743f39bf60",
   "metadata": {},
   "source": [
    "In Python, there are two different ways to index a character :\n",
    "\n",
    "1) Positive Indexing (start from 0)\n",
    "\n",
    "2) Negative Indexing (start from -1)"
   ]
  },
  {
   "cell_type": "markdown",
   "id": "e2b747e8-4a1d-44fe-8e22-beba2531c880",
   "metadata": {},
   "source": [
    "# 4. What is the relationship between indexing and slicing?"
   ]
  },
  {
   "cell_type": "markdown",
   "id": "bbbc7581-7729-4d9f-819e-4f68a3a673ad",
   "metadata": {},
   "source": [
    "The relationship between indexing and slicing is that slicing is an extended form of indexing.\n",
    "    \n",
    "In indexing we get one item while in slicing we get a range of items."
   ]
  },
  {
   "cell_type": "markdown",
   "id": "3d668cae-9859-4fa4-b1bd-1cbbdb76b65d",
   "metadata": {},
   "source": [
    "# 5. What is an indexed character's exact data type? What is the data form of a slicing-generated substring?"
   ]
  },
  {
   "cell_type": "markdown",
   "id": "dd2a333a-4351-422a-8d29-0092d6adf8f6",
   "metadata": {},
   "source": [
    "An indexed character's exact data type is str. The data form of a slicing-generated substring is also a str. "
   ]
  },
  {
   "cell_type": "markdown",
   "id": "a94d2c45-aecd-4afb-a51d-ff06775fcdec",
   "metadata": {},
   "source": [
    "# 6. What is the relationship between string and character \"types\" in Python?"
   ]
  },
  {
   "cell_type": "markdown",
   "id": "4b5954c3-6166-4236-9e38-63b0918143ea",
   "metadata": {},
   "source": [
    "The relationship between string and character \"types\" in Python is that a character is also a string with length 1."
   ]
  },
  {
   "cell_type": "markdown",
   "id": "3f2ea7c0-5bf7-4183-9df0-d22c989fcde6",
   "metadata": {},
   "source": [
    "# 7. Identify at least two operators and one method that allow you to combine one or more smaller strings to create a larger string."
   ]
  },
  {
   "cell_type": "markdown",
   "id": "81a7f144-0fb0-4714-ac18-d7b76597036a",
   "metadata": {},
   "source": [
    "To combine one or more smaller strings to create a larger string :\n",
    "\n",
    "The two operators are :\n",
    "\n",
    "1) + (concatenation operator)\n",
    "2) * (repetition operator)\n",
    "\n",
    "One method is :\n",
    "\n",
    ".join()"
   ]
  },
  {
   "cell_type": "markdown",
   "id": "1e84ec4f-c10e-4ba2-96f5-b70e4263a9ea",
   "metadata": {},
   "source": [
    "# 8. What is the benefit of first checking the target string with in or not in before using the index method to find a substring?"
   ]
  },
  {
   "cell_type": "markdown",
   "id": "446d257a-4ec2-4708-b53d-2ae8de0d0ef6",
   "metadata": {},
   "source": [
    "The benefit of first checking the target string with in or not in before using the index method to find a substring is to avoid error if substring not found."
   ]
  },
  {
   "cell_type": "markdown",
   "id": "f568000c-48c4-40e0-bd58-190bfb8ea133",
   "metadata": {},
   "source": [
    "# 9. Which operators and built-in string methods produce simple Boolean (true/false) results?"
   ]
  },
  {
   "cell_type": "markdown",
   "id": "385f2eb5-71c6-4487-8e90-5fa16a88c7e3",
   "metadata": {},
   "source": [
    "To produce simple Boolean results operators are in, not in and comparison (==, !=, <, > ,etc.) and built-in string methods are isalpha(), isdigit(), isalnum(), isspace(), isupper(), islower(), etc.  "
   ]
  },
  {
   "cell_type": "code",
   "execution_count": null,
   "id": "11ec729d-4df8-4f73-b170-511c8d482729",
   "metadata": {},
   "outputs": [],
   "source": []
  }
 ],
 "metadata": {
  "kernelspec": {
   "display_name": "Python [conda env:base] *",
   "language": "python",
   "name": "conda-base-py"
  },
  "language_info": {
   "codemirror_mode": {
    "name": "ipython",
    "version": 3
   },
   "file_extension": ".py",
   "mimetype": "text/x-python",
   "name": "python",
   "nbconvert_exporter": "python",
   "pygments_lexer": "ipython3",
   "version": "3.12.7"
  }
 },
 "nbformat": 4,
 "nbformat_minor": 5
}
