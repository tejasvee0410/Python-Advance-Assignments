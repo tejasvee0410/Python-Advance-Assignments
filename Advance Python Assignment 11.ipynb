{
 "cells": [
  {
   "cell_type": "markdown",
   "id": "8811b269-4479-4fde-ab17-24a28c4d37be",
   "metadata": {},
   "source": [
    "# 1. What is the concept of a metaclass?"
   ]
  },
  {
   "cell_type": "markdown",
   "id": "159720c0-af98-4fe4-9bf7-e4f4c0ef2da5",
   "metadata": {},
   "source": [
    "A metaclass is the blueprint for classes. Metaclass controls how a classes behave or constructed."
   ]
  },
  {
   "cell_type": "markdown",
   "id": "7b864645-8099-447b-bc15-9ecbd160b4fc",
   "metadata": {},
   "source": [
    "# 2. What is the best way to declare a class's metaclass?"
   ]
  },
  {
   "cell_type": "markdown",
   "id": "30e85f19-4d89-44bb-ab35-a657fe1c0c80",
   "metadata": {},
   "source": [
    "The best way to declare a class's metaclass is metaclass keyword.\n",
    "\n",
    "synatx : class ClassName(metaclass=MetaClassName) : "
   ]
  },
  {
   "cell_type": "markdown",
   "id": "def0b9db-8c4f-4d5a-bfed-eb85ac90f3a1",
   "metadata": {},
   "source": [
    "# 3. How do class decorators overlap with metaclasses for handling classes?"
   ]
  },
  {
   "cell_type": "markdown",
   "id": "f9c9a78c-f75e-45f1-88ff-5fec298dcfc3",
   "metadata": {},
   "source": [
    "In term of functionality class decorators overlap with metaclasses for handling classes.\n",
    "    \n",
    "Class decorators are simpler and used after class creation.\n",
    "    \n",
    "Metaclasses are more powerful and control how classes are built."
   ]
  },
  {
   "cell_type": "markdown",
   "id": "23967421-04e9-4f11-badc-11a93a35898b",
   "metadata": {},
   "source": [
    "# 4. How do class decorators overlap with metaclasses for handling instances?"
   ]
  },
  {
   "cell_type": "markdown",
   "id": "eb6ede15-5dfa-498f-b954-1333186b70b0",
   "metadata": {},
   "source": [
    "Both class decorators and metaclasses can control how instances are created and behave, so they overlap in functionality.\n",
    "\n",
    "Decorators do it by modifying the class after it's created.\n",
    "\n",
    "Metaclasses do it by customizing how the class creates instances"
   ]
  },
  {
   "cell_type": "code",
   "execution_count": null,
   "id": "c20f3e08-1317-4631-be72-0fbdf6a22e65",
   "metadata": {},
   "outputs": [],
   "source": []
  }
 ],
 "metadata": {
  "kernelspec": {
   "display_name": "Python [conda env:base] *",
   "language": "python",
   "name": "conda-base-py"
  },
  "language_info": {
   "codemirror_mode": {
    "name": "ipython",
    "version": 3
   },
   "file_extension": ".py",
   "mimetype": "text/x-python",
   "name": "python",
   "nbconvert_exporter": "python",
   "pygments_lexer": "ipython3",
   "version": "3.12.7"
  }
 },
 "nbformat": 4,
 "nbformat_minor": 5
}
