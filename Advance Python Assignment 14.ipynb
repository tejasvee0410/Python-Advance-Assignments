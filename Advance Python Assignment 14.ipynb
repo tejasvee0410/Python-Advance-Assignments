{
 "cells": [
  {
   "cell_type": "markdown",
   "id": "84de813d-bc0a-42eb-9e4f-e028463a2eb7",
   "metadata": {},
   "source": [
    "# 1. Is an assignment operator like += only for show? Is it possible that it would lead to faster results at the runtime?"
   ]
  },
  {
   "cell_type": "markdown",
   "id": "1bd2b21b-8869-4322-a61d-cb5397c2f2bb",
   "metadata": {},
   "source": [
    "No, an assignment operator like += is not only for show.Yes, it is possible that it would lead to faster results at the runtime depending on with which data type it used."
   ]
  },
  {
   "cell_type": "markdown",
   "id": "321c58e8-1bfb-48f6-b45f-a44e989c9f6b",
   "metadata": {},
   "source": [
    "# 2. What is the smallest number of statements you'd have to write in most programming languages to replace the Python expression a, b = a + b, a?"
   ]
  },
  {
   "cell_type": "markdown",
   "id": "d68a43bd-9d40-4328-9ad0-2118c3edc5d9",
   "metadata": {},
   "source": [
    "The smallest number of statements we would have to write in most programming languages to replace the Python expression a,b = a+b, a is 3.\n",
    "\n",
    "temp = a\n",
    "\n",
    "a = a + b\n",
    "\n",
    "b = temp"
   ]
  },
  {
   "cell_type": "markdown",
   "id": "777b1399-707f-4528-bfc7-66fa6985dced",
   "metadata": {},
   "source": [
    "# 3. In Python, what is the most effective way to set a list of 100 integers to 0?"
   ]
  },
  {
   "cell_type": "markdown",
   "id": "e6ad45ba-79f7-453d-a6af-b8628beeb107",
   "metadata": {},
   "source": [
    "In Python the most effective way to set a list of 100 integers to 0 is : l = [0]*100"
   ]
  },
  {
   "cell_type": "markdown",
   "id": "b0a0f27f-f293-47da-906c-29029c8bc505",
   "metadata": {},
   "source": [
    "# 4. What is the most effective way to initialise a list of 99 integers that repeats the sequence 1, 2, 3?S If necessary, show step-by-step instructions on how to accomplish this."
   ]
  },
  {
   "cell_type": "markdown",
   "id": "21ec97f5-c00f-43f7-86be-faf54b900daf",
   "metadata": {},
   "source": [
    "l = [1,2,3]*33 is the most effective way to initialise a list of 99 integers that repeats the sequence 1, 2, 3."
   ]
  },
  {
   "cell_type": "code",
   "execution_count": 12,
   "id": "01c94301-6ccc-4de2-a1f3-100c5258bb49",
   "metadata": {},
   "outputs": [
    {
     "name": "stdout",
     "output_type": "stream",
     "text": [
      "[1, 2, 3, 1, 2, 3, 1, 2, 3, 1, 2, 3, 1, 2, 3, 1, 2, 3, 1, 2, 3, 1, 2, 3, 1, 2, 3, 1, 2, 3, 1, 2, 3, 1, 2, 3, 1, 2, 3, 1, 2, 3, 1, 2, 3, 1, 2, 3, 1, 2, 3, 1, 2, 3, 1, 2, 3, 1, 2, 3, 1, 2, 3, 1, 2, 3, 1, 2, 3, 1, 2, 3, 1, 2, 3, 1, 2, 3, 1, 2, 3, 1, 2, 3, 1, 2, 3, 1, 2, 3, 1, 2, 3, 1, 2, 3, 1, 2, 3]\n",
      "99\n"
     ]
    }
   ],
   "source": [
    "l = [1,2,3]*33\n",
    "print(l)\n",
    "print(len(l))"
   ]
  },
  {
   "cell_type": "markdown",
   "id": "5d9eb8e4-a300-49c0-bf37-308a19aa68fe",
   "metadata": {},
   "source": [
    "# 5. If you're using IDLE to run a Python application, explain how to print a multidimensional list as efficiently?"
   ]
  },
  {
   "cell_type": "markdown",
   "id": "c5a29257-6191-4fe0-8d47-95b3cc27a3ae",
   "metadata": {},
   "source": [
    "Use for loop or in-built .join() to print multidimensional list."
   ]
  },
  {
   "cell_type": "markdown",
   "id": "6bf65f51-186d-4c8f-9e2e-8b5430916db7",
   "metadata": {},
   "source": [
    "# 6.Is it possible to use list comprehension with a string? If so, how can you go about doing it?"
   ]
  },
  {
   "cell_type": "markdown",
   "id": "618d236f-eb53-46dc-a83e-a89b6cd8e7af",
   "metadata": {},
   "source": [
    "Yes, it is possible to use list comprehension with a string. The syntax is : [expression for character in string]"
   ]
  },
  {
   "cell_type": "code",
   "execution_count": 4,
   "id": "94d5fefc-e9db-489b-bddd-27436f77ede2",
   "metadata": {},
   "outputs": [
    {
     "name": "stdout",
     "output_type": "stream",
     "text": [
      "['A', 'C', 'E', 'R']\n"
     ]
    }
   ],
   "source": [
    "# Convert all letters to uppercase\n",
    "s = \"acer\"\n",
    "s1 = [char.upper() for char in s]\n",
    "print(s1)"
   ]
  },
  {
   "cell_type": "markdown",
   "id": "94efc944-d4a2-4f0b-9b46-73853f56abab",
   "metadata": {},
   "source": [
    "# 7.From the command line, how do you get support with a user-written Python programme? Is this possible from inside IDLE?"
   ]
  },
  {
   "cell_type": "markdown",
   "id": "67ced571-43ea-4e37-8a94-fda4ab0c7466",
   "metadata": {},
   "source": [
    "From the command line we get support by :\n",
    "\n",
    "  running the program with python interpreter\n",
    "\n",
    "  checking syntax\n",
    "\n",
    "  capturing output or error\n",
    "\n",
    "  use Python's built-in debugger\n",
    "\n",
    "Yes, this is possible from inside IDLE."
   ]
  },
  {
   "cell_type": "markdown",
   "id": "a505f099-a16a-40dd-8ae2-25f3baf268d3",
   "metadata": {},
   "source": [
    "# 8.Functions are said to be “first-class objects” in Python but not in most other languages, such as C++ or Java. What can you do in Python with a function (callable object) that you can't do in C or C++?"
   ]
  },
  {
   "cell_type": "markdown",
   "id": "9111e201-2177-4477-9b4b-82a6fea7e7da",
   "metadata": {},
   "source": [
    "In Python we can assign, pass, return and store function like variable that we can't do in C or C++."
   ]
  },
  {
   "cell_type": "markdown",
   "id": "263e9445-967a-40b1-82cf-afdff576fe32",
   "metadata": {},
   "source": [
    "# 9. How do you distinguish between a wrapper, a wrapped feature, and a decorator?"
   ]
  },
  {
   "cell_type": "markdown",
   "id": "4224d494-1e9b-4e04-8e19-3b9b2bf4b09d",
   "metadata": {},
   "source": [
    "The difference between a wrapper, a wrapped feature and a decorator is :\n",
    "\n",
    "A wrapped feature is a original function which we want to modifiy.\n",
    "    \n",
    "A wrapper is a new function that add behavior around the original function.\n",
    "    \n",
    "A decorator is a function that returns wrapper."
   ]
  },
  {
   "cell_type": "markdown",
   "id": "d51ba5ab-50d0-432f-a832-379f087a3081",
   "metadata": {},
   "source": [
    "# 10.If a function is a generator function, what does it return?"
   ]
  },
  {
   "cell_type": "markdown",
   "id": "44b0ac04-5626-43d7-b81b-3ba9d95be7b2",
   "metadata": {},
   "source": [
    "If a function is a generator function it returns a generator object."
   ]
  },
  {
   "cell_type": "markdown",
   "id": "ea59ec71-422f-4c87-a250-8cce84ff6a28",
   "metadata": {},
   "source": [
    "# 11. What is the one improvement that must be made to a function in order for it to become a generator function in the Python language?"
   ]
  },
  {
   "cell_type": "markdown",
   "id": "5a17780e-ddfb-4367-ab07-555297bf7d57",
   "metadata": {},
   "source": [
    "The one improvement is using the yield keyword."
   ]
  },
  {
   "cell_type": "markdown",
   "id": "5f48c5e0-782c-4d9c-b882-fbd6c3631168",
   "metadata": {},
   "source": [
    "# 12.Identify at least one benefit of generators."
   ]
  },
  {
   "cell_type": "markdown",
   "id": "96c5ac60-dad1-4bd1-ac1c-c07f8c442a05",
   "metadata": {},
   "source": [
    "Generators are memory efficient because they produce one value at a time only when needed."
   ]
  },
  {
   "cell_type": "code",
   "execution_count": null,
   "id": "2805ad42-8b8d-4e2d-85f0-b3ab76b48c98",
   "metadata": {},
   "outputs": [],
   "source": []
  }
 ],
 "metadata": {
  "kernelspec": {
   "display_name": "Python [conda env:base] *",
   "language": "python",
   "name": "conda-base-py"
  },
  "language_info": {
   "codemirror_mode": {
    "name": "ipython",
    "version": 3
   },
   "file_extension": ".py",
   "mimetype": "text/x-python",
   "name": "python",
   "nbconvert_exporter": "python",
   "pygments_lexer": "ipython3",
   "version": "3.12.7"
  }
 },
 "nbformat": 4,
 "nbformat_minor": 5
}
