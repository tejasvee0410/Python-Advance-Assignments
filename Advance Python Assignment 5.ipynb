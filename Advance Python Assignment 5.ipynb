{
 "cells": [
  {
   "cell_type": "markdown",
   "id": "a8e07615-c299-408c-b8e1-3e055c589121",
   "metadata": {},
   "source": [
    "# 1.What is the meaning of multiple inheritance?"
   ]
  },
  {
   "cell_type": "markdown",
   "id": "9e102c37-00c1-44c2-928a-d1f65fd4e429",
   "metadata": {},
   "source": [
    "When a child class inheriting properties and behaviours of more than one parent class is called multiple inheritance."
   ]
  },
  {
   "cell_type": "markdown",
   "id": "f5aa5e54-ea61-42a6-8298-64f94f6bbede",
   "metadata": {},
   "source": [
    "# 2.What is the concept of delegation?"
   ]
  },
  {
   "cell_type": "markdown",
   "id": "bd01f835-454f-4015-bcb3-6ba2c48f0406",
   "metadata": {},
   "source": [
    "In OOPS delegation is design principle where one object performs a certain task on behalf of another object.\n",
    "    \n",
    "It represent 'is-a' relationship between classes."
   ]
  },
  {
   "cell_type": "markdown",
   "id": "437220a1-8ca7-4c19-95e8-4bebb3f4a60e",
   "metadata": {},
   "source": [
    "# 3. What is the concept of composition?"
   ]
  },
  {
   "cell_type": "markdown",
   "id": "0edc61cb-ef74-4596-a2cf-5f9cff3dc35d",
   "metadata": {},
   "source": [
    "In OOPS composition is a design principle where one class contains an object of another class and use it to perform certain tasks. \n",
    "\n",
    "It represent 'has-a' relationship between classes."
   ]
  },
  {
   "cell_type": "markdown",
   "id": "68d365b6-eaee-4b43-90dd-9a0ccc44834c",
   "metadata": {},
   "source": [
    "# 4. What are bound methods and how do we use them?"
   ]
  },
  {
   "cell_type": "markdown",
   "id": "c7160bbc-c6bc-4fce-bef3-9dd75023a740",
   "metadata": {},
   "source": [
    "A bound method is a method that is associated with an instance of a class.\n",
    "\n",
    "When we call a method on an object Python automatically pass that object as a first argument.\n",
    "\n",
    "We use them via :\n",
    "1) Call it directly Ex. obj.method()\n",
    "2) Assign  to a variable  Ex. a = object.method ,a()\n",
    "3) Pass to another function Ex. def run(func):\n",
    "\n",
    "                                     func()\n",
    "\n",
    "                             run = obj.method()"
   ]
  },
  {
   "cell_type": "markdown",
   "id": "27ed00bf-0f55-4cd8-8c5a-3a4732abef75",
   "metadata": {},
   "source": [
    "# 5. What is the purpose of pseudoprivate attributes?"
   ]
  },
  {
   "cell_type": "markdown",
   "id": "1c3741a1-bed9-4025-87d3-6c9ed633b059",
   "metadata": {},
   "source": [
    "The purpose of pseudoprivate attributes is to avoid name clashes in subclasses and to protect internal data from accidental access."
   ]
  },
  {
   "cell_type": "code",
   "execution_count": null,
   "id": "58a37d03-831c-4baf-b503-890351e3f53c",
   "metadata": {},
   "outputs": [],
   "source": []
  }
 ],
 "metadata": {
  "kernelspec": {
   "display_name": "Python [conda env:base] *",
   "language": "python",
   "name": "conda-base-py"
  },
  "language_info": {
   "codemirror_mode": {
    "name": "ipython",
    "version": 3
   },
   "file_extension": ".py",
   "mimetype": "text/x-python",
   "name": "python",
   "nbconvert_exporter": "python",
   "pygments_lexer": "ipython3",
   "version": "3.12.7"
  }
 },
 "nbformat": 4,
 "nbformat_minor": 5
}
