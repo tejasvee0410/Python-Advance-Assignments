{
 "cells": [
  {
   "cell_type": "markdown",
   "id": "aa79a60a-2b54-4a50-931d-a54437bca037",
   "metadata": {},
   "source": [
    "# 1.What is the benefit of regular expressions?"
   ]
  },
  {
   "cell_type": "markdown",
   "id": "21c50e01-9324-46a9-b119-f6889740b396",
   "metadata": {},
   "source": [
    "Regular expression provides fast, flexible and powerfull way to work with text like for pattern mathching, searching and validation."
   ]
  },
  {
   "cell_type": "markdown",
   "id": "378084af-3c79-44cf-9c37-2729b29554dc",
   "metadata": {},
   "source": [
    "# 2. Describe the difference between the effects of \"(ab)c+\" and \"a(bc)+.\" Which of these, if any, is the unqualified pattern \"abc+\"?"
   ]
  },
  {
   "cell_type": "markdown",
   "id": "bee9c74b-0c71-41fb-9dde-95fdb29f91cf",
   "metadata": {},
   "source": [
    "The difference is :\n",
    "\n",
    "1) \"(ab)c+\" :\n",
    "\n",
    "    (ab) : matches \"ab\" as a group. \n",
    "        \n",
    "    c+ : matches one or more occurences of \"c\" after \"ab\".\n",
    "\n",
    "    Ex.: \"abc\", \"abcc\", \"abccc\", etc.\n",
    "\n",
    "2) \"a(bc)+\" :\n",
    "\n",
    "    a : matches the character \"a\".\n",
    "        \n",
    "    (bc)+ : matches the one or more occurences of \"bc\" as a group.\n",
    "        \n",
    "    Ex. : \"abc\", \"abcbc\", \"abcbcbc\", etc.\n",
    "\n",
    "3) \"abc+\" :\n",
    "\n",
    "    a : matches character \"a\".\n",
    "        \n",
    "    b : matches character \"b\".\n",
    "    c+ : matches one or more occurence of \"c\". \n",
    "    Ex. : \"abc\", \"abcc\", \"abccc\", etc.\n",
    "\n",
    "\"(ab)c+\" behave as the unqualified pattern \"abc+\"."
   ]
  },
  {
   "cell_type": "markdown",
   "id": "539d8988-225e-4259-849b-f46018f367f2",
   "metadata": {},
   "source": [
    "# 3. How much do you need to use the following sentence while using regular expressions?\n",
    "\n",
    "import re"
   ]
  },
  {
   "cell_type": "markdown",
   "id": "0e110d2d-1f33-4fb1-a2ff-69bbfed38abb",
   "metadata": {},
   "source": [
    "We must need import re because there are no built-in Regex functions like re.search(), re.match(), re.findall(), etc. They are part of re module."
   ]
  },
  {
   "cell_type": "markdown",
   "id": "a7c3a55b-5ad4-41de-b294-8c36aee44edb",
   "metadata": {},
   "source": [
    "# 4. Which characters have special significance in square brackets when expressing a range, and under what circumstances?"
   ]
  },
  {
   "cell_type": "markdown",
   "id": "6432cdd8-830a-4728-a82b-18ff339e23dc",
   "metadata": {},
   "source": [
    "Following characters have special significance in square brackets when expressing a range with circumstances :\n",
    "    \n",
    "1) Hypen [-] :\n",
    "\n",
    "   Used to specify range of characters.\n",
    "       \n",
    "   special only if appear between two characters.\n",
    "       \n",
    "    Ex. [a-z], [0-9], etc.\n",
    "\n",
    "2) Caret [^] :\n",
    "       \n",
    "   Used to negates character class.\n",
    "       \n",
    "   special only if placed at the start of []. \n",
    "       \n",
    "    Ex.  [^0-9] negates the digit(match any character except digit).\n",
    "\n",
    "3) backslash [\\] :\n",
    "\n",
    "   Used to escape special characters inside the [].\n",
    "       \n",
    "   special always when preceding character. \n",
    "       \n",
    "   Ex. [\\d] matches any digit, [\\w] matches any word characters ,etc."
   ]
  },
  {
   "cell_type": "markdown",
   "id": "7c65fbf8-f5b0-491f-bb51-ad97b30b7ed5",
   "metadata": {},
   "source": [
    "# 5. How does compiling a regular-expression object benefit you?"
   ]
  },
  {
   "cell_type": "markdown",
   "id": "70f3559e-2534-4f93-b012-493bb795a09f",
   "metadata": {},
   "source": [
    "Compiling a regular-expression object improves speed, readability, reusability and helps catch errors early.\n",
    "\n",
    "Benefits :\n",
    "\n",
    "if we use the same pattern multiple times, compiling it once avoids reprocessing the pattern each time. \n",
    "\n",
    "This make faster execution for repeated matching or searching.\n",
    "    \n",
    "Easy to reuse the same compiled pattern multiple times without redefining it .\n",
    "    \n",
    "It makes code readable by assiging the regex to a variable."
   ]
  },
  {
   "cell_type": "markdown",
   "id": "9a6116d6-01e4-4efd-8787-b0af9fb5ba36",
   "metadata": {},
   "source": [
    "# 6. What are some examples of how to use the match object returned by re.match and re.search?"
   ]
  },
  {
   "cell_type": "markdown",
   "id": "bd3a5df3-31e2-4e23-bb3f-687e889c0760",
   "metadata": {},
   "source": [
    "Some examples to use the match object returned by re.match and re.search are as below :"
   ]
  },
  {
   "cell_type": "code",
   "execution_count": 15,
   "id": "c0d6d120-7527-4f5e-88ae-cc03f54ab886",
   "metadata": {},
   "outputs": [
    {
     "name": "stdout",
     "output_type": "stream",
     "text": [
      "300\n"
     ]
    }
   ],
   "source": [
    "# 1) Basic .group() to get matched text :\n",
    "import re\n",
    "\n",
    "text = \"The price is 300 rupees.\"\n",
    "match = re.search(r\"\\d+\", text)\n",
    "if match :\n",
    "    print(match.group())"
   ]
  },
  {
   "cell_type": "code",
   "execution_count": 29,
   "id": "59fa96c5-2532-42dc-8499-625fcde10ebe",
   "metadata": {},
   "outputs": [
    {
     "name": "stdout",
     "output_type": "stream",
     "text": [
      "2024-2025\n",
      "2024\n",
      "2025\n"
     ]
    }
   ],
   "source": [
    "# 2) Using group(0) and group(1) with parantheses :\n",
    "year = re.match(r\"(\\d+)-(\\d+)\", \"2024-2025\")\n",
    "if year :\n",
    "    print(year.group(0)) #Full match\n",
    "    print(year.group(1))\n",
    "    print(year.group(2))"
   ]
  },
  {
   "cell_type": "code",
   "execution_count": 33,
   "id": "61ec5e8e-e672-4b56-9754-a0531d493fe6",
   "metadata": {},
   "outputs": [
    {
     "name": "stdout",
     "output_type": "stream",
     "text": [
      "8\n",
      "11\n",
      "(8, 11)\n"
     ]
    }
   ],
   "source": [
    "# 3) Get start and end position :\n",
    "\n",
    "match = re.search(r\"sat\", \"The cat sat\")\n",
    "if match :\n",
    "    print(match.start())\n",
    "    print(match.end())\n",
    "    print(match.span()) # To get both in tuple"
   ]
  },
  {
   "cell_type": "code",
   "execution_count": 35,
   "id": "a218a2f6-cebb-4d06-8677-dd9380626204",
   "metadata": {},
   "outputs": [
    {
     "name": "stdout",
     "output_type": "stream",
     "text": [
      "Match found!\n"
     ]
    }
   ],
   "source": [
    "# 4) To check match is found :\n",
    "\n",
    "match = re.match(r\"Hello\", \"Hello world\")\n",
    "\n",
    "if match:\n",
    "    print(\"Match found!\")\n",
    "else:\n",
    "    print(\"No match.\")"
   ]
  },
  {
   "cell_type": "markdown",
   "id": "9bad113c-ed4e-458a-bb32-50d90a1f87cf",
   "metadata": {},
   "source": [
    "# 7. What is the difference between using a vertical bar (|) as an alteration and using square brackets as a character set?"
   ]
  },
  {
   "cell_type": "markdown",
   "id": "d0aec61f-f8d3-4eef-aa2e-a8fff8a0a914",
   "metadata": {},
   "source": [
    "The difference between using a vertical bar(|) and square brackets([]) is :\n",
    "\n",
    "Vertical bar(|) use to match entire words or phrases while square brackets([]) use to match single character.\n",
    "\n",
    "Ex. :"
   ]
  },
  {
   "cell_type": "code",
   "execution_count": 45,
   "id": "674e5f08-b230-45b5-b46d-662211f8e685",
   "metadata": {},
   "outputs": [
    {
     "name": "stdout",
     "output_type": "stream",
     "text": [
      "cat\n"
     ]
    }
   ],
   "source": [
    "import re\n",
    "\n",
    "text = \"cat or dog\"\n",
    "match = re.search(r\"cat|dog\", text)\n",
    "\n",
    "if match:\n",
    "    print(match.group())  "
   ]
  },
  {
   "cell_type": "code",
   "execution_count": 47,
   "id": "f4f580bf-300e-4983-88f0-22db99786803",
   "metadata": {},
   "outputs": [
    {
     "name": "stdout",
     "output_type": "stream",
     "text": [
      "rat\n"
     ]
    }
   ],
   "source": [
    "import re\n",
    "\n",
    "text = \"rat\"\n",
    "match = re.search(r\"r[aeiou]t\", text)\n",
    "\n",
    "if match:\n",
    "    print(match.group())  "
   ]
  },
  {
   "cell_type": "markdown",
   "id": "fe9eeb17-052b-4b99-8068-53b05782432c",
   "metadata": {},
   "source": [
    "# 8. In regular-expression search patterns, why is it necessary to use the raw-string indicator (r)? In replacement strings?"
   ]
  },
  {
   "cell_type": "markdown",
   "id": "85e55b9c-38d0-46f7-b796-de0a8c6a8d4e",
   "metadata": {},
   "source": [
    "If we write regex without r Python may misinterpret pattern because in Python \\ is used as escape character but in regex backslash(\\) give simple meaning.\n",
    "\n",
    "like \\d for digit , \\w for word , etc.\n",
    "\n",
    "If we don't use r before \\ we need to double every backslash (\\\\) .\n",
    "\n",
    "We use r in replacement string because it also contain \\ for group references like \\1,\\2 etc. if we not use r \\1 might be seen as control character(like ASCII 1) not a group number."
   ]
  },
  {
   "cell_type": "code",
   "execution_count": null,
   "id": "35f1cf40-09c9-41cf-91c1-7bb4114e6adc",
   "metadata": {},
   "outputs": [],
   "source": []
  }
 ],
 "metadata": {
  "kernelspec": {
   "display_name": "Python [conda env:base] *",
   "language": "python",
   "name": "conda-base-py"
  },
  "language_info": {
   "codemirror_mode": {
    "name": "ipython",
    "version": 3
   },
   "file_extension": ".py",
   "mimetype": "text/x-python",
   "name": "python",
   "nbconvert_exporter": "python",
   "pygments_lexer": "ipython3",
   "version": "3.12.7"
  }
 },
 "nbformat": 4,
 "nbformat_minor": 5
}
