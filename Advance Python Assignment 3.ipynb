{
 "cells": [
  {
   "cell_type": "markdown",
   "id": "94aef15d-9360-42ab-9ebe-ed5b56bc6a6b",
   "metadata": {},
   "source": [
    "# 1.What is the concept of an abstract superclass?"
   ]
  },
  {
   "cell_type": "markdown",
   "id": "132b3edc-f3c0-485b-a5cd-27013ad67043",
   "metadata": {},
   "source": [
    "The concept of an abstract superclass refers to a class that is not meant to be used on its own but serves as a blueprint for other classes."
   ]
  },
  {
   "cell_type": "markdown",
   "id": "e6cc5947-d660-4140-a282-197db9f42fda",
   "metadata": {},
   "source": [
    "# 2.What happens when a class statement's top level contains a basic assignment statement?"
   ]
  },
  {
   "cell_type": "markdown",
   "id": "5c91fee7-c541-4e6d-8cce-258f7b0ddf50",
   "metadata": {},
   "source": [
    "When a class statement's top level contains a basic assignment statement it creates class variable which shared by all instances unless individually overridden."
   ]
  },
  {
   "cell_type": "markdown",
   "id": "3f5fe2ea-1517-43ce-809e-bd67724aeb88",
   "metadata": {},
   "source": [
    "# 3. Why does a class need to manually call a superclass's __init__ method?"
   ]
  },
  {
   "cell_type": "markdown",
   "id": "f7a8f00e-f9a2-47a4-becb-35d95013c155",
   "metadata": {},
   "source": [
    "A class need to manually call a superclass's init method to ensure proper initialization of inherited attributes and methods."
   ]
  },
  {
   "cell_type": "markdown",
   "id": "5dfd44b1-caed-49d7-9c7c-d85d497ec081",
   "metadata": {},
   "source": [
    "# 4.How can you augment, instead of completely replacing, an inherited method?"
   ]
  },
  {
   "cell_type": "markdown",
   "id": "9b871fdd-3af9-4159-8f66-513fbf04a14e",
   "metadata": {},
   "source": [
    "By calling a superclass method within a subclass method we can augment instead of completely replacing an inherited method."
   ]
  },
  {
   "cell_type": "markdown",
   "id": "97e2af69-6174-4dde-bfff-889116e96665",
   "metadata": {},
   "source": [
    "# 5.How is the local scope of a class different from that of a function?"
   ]
  },
  {
   "cell_type": "markdown",
   "id": "f88da40e-1930-460d-983b-4ccda0741dba",
   "metadata": {},
   "outputs": [],
   "source": [
     "When the class is defined but not called the local scope executed while when function is called it executed.

      In local scope we can define method, variable, inner class while in function scope we can only define variables and return values."


]
  }
 ],
 "metadata": {
  "kernelspec": {
   "display_name": "Python [conda env:base] *",
   "language": "python",
   "name": "conda-base-py"
  },
  "language_info": {
   "codemirror_mode": {
    "name": "ipython",
    "version": 3
   },
   "file_extension": ".py",
   "mimetype": "text/x-python",
   "name": "python",
   "nbconvert_exporter": "python",
   "pygments_lexer": "ipython3",
   "version": "3.12.7"
  }
 },
 "nbformat": 4,
 "nbformat_minor": 5
}
